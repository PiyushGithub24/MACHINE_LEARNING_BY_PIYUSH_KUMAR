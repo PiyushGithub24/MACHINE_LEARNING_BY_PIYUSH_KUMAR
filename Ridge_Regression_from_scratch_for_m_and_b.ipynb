{
  "nbformat": 4,
  "nbformat_minor": 0,
  "metadata": {
    "colab": {
      "provenance": [],
      "authorship_tag": "ABX9TyOZGzHE1glHbuA8FGUY3QNL",
      "include_colab_link": true
    },
    "kernelspec": {
      "name": "python3",
      "display_name": "Python 3"
    },
    "language_info": {
      "name": "python"
    }
  },
  "cells": [
    {
      "cell_type": "markdown",
      "metadata": {
        "id": "view-in-github",
        "colab_type": "text"
      },
      "source": [
        "<a href=\"https://colab.research.google.com/github/PiyushGithub24/MACHINE_LEARNING_BY_PIYUSH_KUMAR/blob/main/Ridge_Regression_from_scratch_for_m_and_b.ipynb\" target=\"_parent\"><img src=\"https://colab.research.google.com/assets/colab-badge.svg\" alt=\"Open In Colab\"/></a>"
      ]
    },
    {
      "cell_type": "code",
      "execution_count": 1,
      "metadata": {
        "id": "9an3BrUdf2dk"
      },
      "outputs": [],
      "source": [
        "from sklearn.datasets import make_regression\n",
        "import matplotlib.pyplot as plt\n",
        "import pandas as pd"
      ]
    },
    {
      "cell_type": "code",
      "source": [
        "X,y=make_regression(n_samples=100,n_features=1,n_informative=1,n_targets=1,noise=20 ,random_state=13)"
      ],
      "metadata": {
        "id": "kNdd3gS9gW1S"
      },
      "execution_count": 2,
      "outputs": []
    },
    {
      "cell_type": "code",
      "source": [
        "X.shape ,y.shape"
      ],
      "metadata": {
        "colab": {
          "base_uri": "https://localhost:8080/"
        },
        "id": "XbWJ_Iqigp_B",
        "outputId": "31b318bf-eeb7-463d-9f3c-19b10bb4b770"
      },
      "execution_count": 3,
      "outputs": [
        {
          "output_type": "execute_result",
          "data": {
            "text/plain": [
              "((100, 1), (100,))"
            ]
          },
          "metadata": {},
          "execution_count": 3
        }
      ]
    },
    {
      "cell_type": "code",
      "source": [
        "plt.scatter(X,y)\n",
        "plt.xlabel(\"X --> Features\")\n",
        "plt.ylabel(\"Y --> Target\")\n",
        "plt.show()"
      ],
      "metadata": {
        "colab": {
          "base_uri": "https://localhost:8080/",
          "height": 449
        },
        "id": "LND_rc9dguP0",
        "outputId": "2eefe0da-9206-4d1f-f728-a3c80cf7ddee"
      },
      "execution_count": 4,
      "outputs": [
        {
          "output_type": "display_data",
          "data": {
            "text/plain": [
              "<Figure size 640x480 with 1 Axes>"
            ],
            "image/png": "[encoded data removed]"
          },
          "metadata": {}
        }
      ]
    },
    {
      "cell_type": "markdown",
      "source": [
        "##Lets first use the linear regression :"
      ],
      "metadata": {
        "id": "tf4JiDB9hOrj"
      }
    },
    {
      "cell_type": "code",
      "source": [
        "from sklearn.linear_model import LinearRegression\n",
        "linear=LinearRegression()\n",
        "linear.fit(X,y)\n",
        "print(\"coef_ :\",linear.coef_)\n",
        "print(\"intercept_ :\",linear.intercept_)"
      ],
      "metadata": {
        "colab": {
          "base_uri": "https://localhost:8080/"
        },
        "id": "2TXPA1wDhDIY",
        "outputId": "5577399a-9ee1-4ab2-ce4c-562f207c9f1e"
      },
      "execution_count": 5,
      "outputs": [
        {
          "output_type": "stream",
          "name": "stdout",
          "text": [
            "coef_ : [27.82809103]\n",
            "intercept_ : -2.29474455867698\n"
          ]
        }
      ]
    },
    {
      "cell_type": "markdown",
      "source": [
        "##Now lets use Ridge Regression :"
      ],
      "metadata": {
        "id": "p0TsZ8TOiGYa"
      }
    },
    {
      "cell_type": "code",
      "source": [
        "from sklearn.linear_model import Ridge\n",
        "#When taking alpha=0\n",
        "ridge1=Ridge(alpha=0)\n",
        "ridge1.fit(X,y)\n",
        "print(\"coef_ :\",ridge1.coef_)\n",
        "print(\"intercept_ :\",ridge1.intercept_)"
      ],
      "metadata": {
        "colab": {
          "base_uri": "https://localhost:8080/"
        },
        "id": "VW7uedIWhffV",
        "outputId": "dbcbf08b-cf6c-4d08-f151-09c5d11c06ed"
      },
      "execution_count": 6,
      "outputs": [
        {
          "output_type": "stream",
          "name": "stdout",
          "text": [
            "coef_ : [27.82809103]\n",
            "intercept_ : -2.29474455867698\n"
          ]
        }
      ]
    },
    {
      "cell_type": "code",
      "source": [
        "#When taking alpha=10\n",
        "ridge2=Ridge(alpha=10)\n",
        "ridge2.fit(X,y)\n",
        "print(\"coef_ :\",ridge2.coef_)\n",
        "print(\"intercept_ :\",ridge2.intercept_)"
      ],
      "metadata": {
        "colab": {
          "base_uri": "https://localhost:8080/"
        },
        "id": "1Lf3uk0JiUes",
        "outputId": "e982b02e-c44c-4708-9bdb-02da2e34fc49"
      },
      "execution_count": 7,
      "outputs": [
        {
          "output_type": "stream",
          "name": "stdout",
          "text": [
            "coef_ : [24.9546267]\n",
            "intercept_ : -2.1269130035235735\n"
          ]
        }
      ]
    },
    {
      "cell_type": "code",
      "source": [
        "#When taking alpha=100\n",
        "ridge3=Ridge(alpha=100)\n",
        "ridge3.fit(X,y)\n",
        "print(\"coef_ :\",ridge3.coef_)\n",
        "print(\"intercept_ :\",ridge3.intercept_)"
      ],
      "metadata": {
        "colab": {
          "base_uri": "https://localhost:8080/"
        },
        "id": "BBIaLWphif_t",
        "outputId": "99d0d572-aa37-4634-aeed-e60765ff10ff"
      },
      "execution_count": 8,
      "outputs": [
        {
          "output_type": "stream",
          "name": "stdout",
          "text": [
            "coef_ : [12.93442104]\n",
            "intercept_ : -1.4248441496033308\n"
          ]
        }
      ]
    },
    {
      "cell_type": "markdown",
      "source": [
        "##Ploting the all regression lines:"
      ],
      "metadata": {
        "id": "thO7Da2XiyDm"
      }
    },
    {
      "cell_type": "code",
      "source": [
        "plt.plot(X,y,'b.')\n",
        "plt.plot(X,ridge1.predict(X),color='red',label='alpha=0')\n",
        "plt.plot(X,ridge2.predict(X),color='green',label='alpha=10')\n",
        "plt.plot(X,ridge3.predict(X),color='black',label='alpha=100')\n",
        "plt.legend()\n",
        "plt.show()"
      ],
      "metadata": {
        "colab": {
          "base_uri": "https://localhost:8080/",
          "height": 430
        },
        "id": "GpZilY70irHy",
        "outputId": "d427675a-ad90-4f26-9a7b-2fe931c32176"
      },
      "execution_count": 9,
      "outputs": [
        {
          "output_type": "display_data",
          "data": {
            "text/plain": [
              "<Figure size 640x480 with 1 Axes>"
            ],
            "image/png": "[encoded data removed]"
          },
          "metadata": {}
        }
      ]
    },
    {
      "cell_type": "markdown",
      "source": [
        "##creating our class for finding m and b in ridge regressio:"
      ],
      "metadata": {
        "id": "l8lGnez6lazL"
      }
    },
    {
      "cell_type": "code",
      "source": [
        "class MyRidge :\n",
        "  def __init__(self ,alpha=0.1):\n",
        "    self.alpha=alpha\n",
        "    self.m=None\n",
        "    self.b=None\n",
        "\n",
        "  def fit(self,X_train ,y_train):\n",
        "    num=0    #Numerator\n",
        "    deno=0   #Denominator\n",
        "\n",
        "    for i in range(X_train.shape[0]):\n",
        "      num+=(X_train[i] - X_train.mean())*(y_train[i] - y_train.mean())\n",
        "      deno+=(X_train[i] - X_train.mean())**2\n",
        "\n",
        "    self.m=num/(self.alpha +deno)\n",
        "    self.b=y_train.mean() - self.m*X_train.mean()\n",
        "\n",
        "    print(self.m ,\"\\n\",self.b)\n",
        "\n",
        "\n",
        "  def predict(self ,X_test):\n",
        "    pass"
      ],
      "metadata": {
        "id": "-KgQWgeujHqc"
      },
      "execution_count": 12,
      "outputs": []
    },
    {
      "cell_type": "code",
      "source": [
        "myridge=MyRidge(alpha=10)\n",
        "myridge.fit(X,y)"
      ],
      "metadata": {
        "colab": {
          "base_uri": "https://localhost:8080/"
        },
        "id": "F02AkogflnbS",
        "outputId": "ef181e85-cd56-4961-aa8a-5117c0dbe66d"
      },
      "execution_count": 13,
      "outputs": [
        {
          "output_type": "stream",
          "name": "stdout",
          "text": [
            "[24.9546267] \n",
            " [-2.126913]\n"
          ]
        }
      ]
    },
    {
      "cell_type": "code",
      "source": [],
      "metadata": {
        "id": "9uQ0n8XDn96X"
      },
      "execution_count": null,
      "outputs": []
    }
  ]
}