{
  "nbformat": 4,
  "nbformat_minor": 0,
  "metadata": {
    "colab": {
      "provenance": [],
      "authorship_tag": "ABX9TyOJK9l0dflEIFGgSjshIWo2",
      "include_colab_link": true
    },
    "kernelspec": {
      "name": "python3",
      "display_name": "Python 3"
    },
    "language_info": {
      "name": "python"
    }
  },
  "cells": [
    {
      "cell_type": "markdown",
      "metadata": {
        "id": "view-in-github",
        "colab_type": "text"
      },
      "source": [
        "<a href=\"https://colab.research.google.com/github/PiyushGithub24/MACHINE_LEARNING_BY_PIYUSH_KUMAR/blob/main/Day_18(a)Fetchind_data_from_web_scaping(30_05_24).ipynb\" target=\"_parent\"><img src=\"https://colab.research.google.com/assets/colab-badge.svg\" alt=\"Open In Colab\"/></a>"
      ]
    },
    {
      "cell_type": "markdown",
      "source": [
        "#Creating a dataframe with company names and their rating:---"
      ],
      "metadata": {
        "id": "-Ujh2cfFdV-j"
      }
    },
    {
      "cell_type": "code",
      "execution_count": 159,
      "metadata": {
        "id": "lUg_sCum5Fl6"
      },
      "outputs": [],
      "source": [
        "import pandas as pd\n",
        "import requests\n",
        "from bs4 import BeautifulSoup     #bs4:-beautifulsoup4"
      ]
    },
    {
      "cell_type": "code",
      "source": [
        "requests.get(\"https://www.ambitionbox.com/list-of-companies?page=1\")"
      ],
      "metadata": {
        "colab": {
          "base_uri": "https://localhost:8080/"
        },
        "id": "AyzwcAgj97W9",
        "outputId": "87f4b534-21c7-4abb-d09e-a6f18a23453d"
      },
      "execution_count": 160,
      "outputs": [
        {
          "output_type": "execute_result",
          "data": {
            "text/plain": [
              "<Response [403]>"
            ]
          },
          "metadata": {},
          "execution_count": 160
        }
      ]
    },
    {
      "cell_type": "code",
      "source": [
        "requests.get(\"https://www.ambitionbox.com/list-of-companies?page=1\").text"
      ],
      "metadata": {
        "colab": {
          "base_uri": "https://localhost:8080/",
          "height": 70
        },
        "id": "7yw40pCU5She",
        "outputId": "07aa3c5b-d6f8-47f9-e7b5-efade0258680"
      },
      "execution_count": 161,
      "outputs": [
        {
          "output_type": "execute_result",
          "data": {
            "text/plain": [
              "'<HTML><HEAD>\\n<TITLE>Access Denied</TITLE>\\n</HEAD><BODY>\\n<H1>Access Denied</H1>\\n \\nYou don\\'t have permission to access \"http&#58;&#47;&#47;www&#46;ambitionbox&#46;com&#47;list&#45;of&#45;companies&#63;\" on this server.<P>\\nReference&#32;&#35;18&#46;1c0c2d17&#46;1717072092&#46;203a743c\\n<P>https&#58;&#47;&#47;errors&#46;edgesuite&#46;net&#47;18&#46;1c0c2d17&#46;1717072092&#46;203a743c</P>\\n</BODY>\\n</HTML>\\n'"
            ],
            "application/vnd.google.colaboratory.intrinsic+json": {
              "type": "string"
            }
          },
          "metadata": {},
          "execution_count": 161
        }
      ]
    },
    {
      "cell_type": "markdown",
      "source": [
        "in above o/p <Response [403]> means bad requests ,i.e, server reject your requests"
      ],
      "metadata": {
        "id": "BtyUZ5J73uKc"
      }
    },
    {
      "cell_type": "code",
      "source": [
        "headers=headers={'User-Agent':'Mozilla/5.0 (Windows NT 6.3; Win 64 ; x64) Apple WeKit /537.36(KHTML , like Gecko) Chrome/80.0.3987.162 Safari/537.36'}\n",
        "webpage=requests.get(\"https://www.ambitionbox.com/list-of-companies?page=1\",headers=headers).text"
      ],
      "metadata": {
        "id": "H4oaqQ8B-TTv"
      },
      "execution_count": 162,
      "outputs": []
    },
    {
      "cell_type": "code",
      "source": [
        "soup=BeautifulSoup(webpage,'lxml')   #'lxml' is a html parser which help in parsing the html page"
      ],
      "metadata": {
        "id": "iBU7U1Q45cY9"
      },
      "execution_count": 163,
      "outputs": []
    },
    {
      "cell_type": "code",
      "source": [
        "#print(soup.prettify())   #prettify() fun is used to organize our html page"
      ],
      "metadata": {
        "id": "oVwjndpL6yBT"
      },
      "execution_count": 164,
      "outputs": []
    },
    {
      "cell_type": "code",
      "source": [
        "soup.find_all('h1')"
      ],
      "metadata": {
        "colab": {
          "base_uri": "https://localhost:8080/"
        },
        "id": "0s53Bn-59aBz",
        "outputId": "fc9f32de-b56d-41a9-fb37-76e84fdb16d9"
      },
      "execution_count": 165,
      "outputs": [
        {
          "output_type": "execute_result",
          "data": {
            "text/plain": [
              "[<h1 class=\"companyListing__title\">\n",
              " \t\t\t\t\t\t\tList of companies in India\n",
              " \t\t\t\t\t\t</h1>]"
            ]
          },
          "metadata": {},
          "execution_count": 165
        }
      ]
    },
    {
      "cell_type": "code",
      "source": [
        "soup.find_all('h1')[0]"
      ],
      "metadata": {
        "colab": {
          "base_uri": "https://localhost:8080/"
        },
        "id": "jtanYV-59Wot",
        "outputId": "6619bfb0-1c87-4796-caea-75506c95fac3"
      },
      "execution_count": 166,
      "outputs": [
        {
          "output_type": "execute_result",
          "data": {
            "text/plain": [
              "<h1 class=\"companyListing__title\">\n",
              "\t\t\t\t\t\t\tList of companies in India\n",
              "\t\t\t\t\t\t</h1>"
            ]
          },
          "metadata": {},
          "execution_count": 166
        }
      ]
    },
    {
      "cell_type": "code",
      "source": [
        "soup.find_all('h1')[0].text"
      ],
      "metadata": {
        "colab": {
          "base_uri": "https://localhost:8080/",
          "height": 35
        },
        "id": "Pnls05of9Txv",
        "outputId": "b3aaa20c-fdf3-427d-c1d5-d1efda599b02"
      },
      "execution_count": 167,
      "outputs": [
        {
          "output_type": "execute_result",
          "data": {
            "text/plain": [
              "'\\n\\t\\t\\t\\t\\t\\t\\tList of companies in India\\n\\t\\t\\t\\t\\t\\t'"
            ],
            "application/vnd.google.colaboratory.intrinsic+json": {
              "type": "string"
            }
          },
          "metadata": {},
          "execution_count": 167
        }
      ]
    },
    {
      "cell_type": "code",
      "source": [
        "print(soup.find_all('h1')[0].text)"
      ],
      "metadata": {
        "colab": {
          "base_uri": "https://localhost:8080/"
        },
        "id": "WURMQGwk63q4",
        "outputId": "2392a082-d88b-40b4-ae76-e1b7480c8761"
      },
      "execution_count": 168,
      "outputs": [
        {
          "output_type": "stream",
          "name": "stdout",
          "text": [
            "\n",
            "\t\t\t\t\t\t\tList of companies in India\n",
            "\t\t\t\t\t\t\n"
          ]
        }
      ]
    },
    {
      "cell_type": "code",
      "source": [
        "print((soup.find_all('h1')[0].text).strip())"
      ],
      "metadata": {
        "colab": {
          "base_uri": "https://localhost:8080/"
        },
        "id": "yZe7EPZx8vmU",
        "outputId": "570c4216-5491-41e0-d4f9-1e56ef154aaa"
      },
      "execution_count": 169,
      "outputs": [
        {
          "output_type": "stream",
          "name": "stdout",
          "text": [
            "List of companies in India\n"
          ]
        }
      ]
    },
    {
      "cell_type": "code",
      "source": [
        "soup.find_all('h2')  #since it gives list of all 'h2 tags and we want text from every element of the list"
      ],
      "metadata": {
        "colab": {
          "base_uri": "https://localhost:8080/"
        },
        "id": "a4fHSHyq_Ew9",
        "outputId": "d9c89807-14c6-4d2f-d0db-eaa563f7f25e"
      },
      "execution_count": 170,
      "outputs": [
        {
          "output_type": "execute_result",
          "data": {
            "text/plain": [
              "[<h2 class=\"companyCardWrapper__companyName\" title=\"TCS\">\n",
              " \t\t\t\t\t\t\t\t\t\tTCS\n",
              " \t\t\t\t\t\t\t\t\t</h2>,\n",
              " <h2 class=\"companyCardWrapper__companyName\" title=\"Accenture\">\n",
              " \t\t\t\t\t\t\t\t\t\tAccenture\n",
              " \t\t\t\t\t\t\t\t\t</h2>,\n",
              " <h2 class=\"companyCardWrapper__companyName\" title=\"Cognizant\">\n",
              " \t\t\t\t\t\t\t\t\t\tCognizant\n",
              " \t\t\t\t\t\t\t\t\t</h2>,\n",
              " <h2 class=\"companyCardWrapper__companyName\" title=\"Wipro\">\n",
              " \t\t\t\t\t\t\t\t\t\tWipro\n",
              " \t\t\t\t\t\t\t\t\t</h2>,\n",
              " <h2 class=\"companyCardWrapper__companyName\" title=\"Capgemini\">\n",
              " \t\t\t\t\t\t\t\t\t\tCapgemini\n",
              " \t\t\t\t\t\t\t\t\t</h2>,\n",
              " <h2 class=\"companyCardWrapper__companyName\" title=\"HDFC Bank\">\n",
              " \t\t\t\t\t\t\t\t\t\tHDFC Bank\n",
              " \t\t\t\t\t\t\t\t\t</h2>,\n",
              " <h2 class=\"companyCardWrapper__companyName\" title=\"ICICI Bank\">\n",
              " \t\t\t\t\t\t\t\t\t\tICICI Bank\n",
              " \t\t\t\t\t\t\t\t\t</h2>,\n",
              " <h2 class=\"companyCardWrapper__companyName\" title=\"Infosys\">\n",
              " \t\t\t\t\t\t\t\t\t\tInfosys\n",
              " \t\t\t\t\t\t\t\t\t</h2>,\n",
              " <h2 class=\"companyCardWrapper__companyName\" title=\"HCLTech\">\n",
              " \t\t\t\t\t\t\t\t\t\tHCLTech\n",
              " \t\t\t\t\t\t\t\t\t</h2>,\n",
              " <h2 class=\"companyCardWrapper__companyName\" title=\"Tech Mahindra\">\n",
              " \t\t\t\t\t\t\t\t\t\tTech Mahindra\n",
              " \t\t\t\t\t\t\t\t\t</h2>,\n",
              " <h2 class=\"companyCardWrapper__companyName\" title=\"Genpact\">\n",
              " \t\t\t\t\t\t\t\t\t\tGenpact\n",
              " \t\t\t\t\t\t\t\t\t</h2>,\n",
              " <h2 class=\"companyCardWrapper__companyName\" title=\"Axis Bank\">\n",
              " \t\t\t\t\t\t\t\t\t\tAxis Bank\n",
              " \t\t\t\t\t\t\t\t\t</h2>,\n",
              " <h2 class=\"companyCardWrapper__companyName\" title=\"Teleperformance\">\n",
              " \t\t\t\t\t\t\t\t\t\tTeleperformance\n",
              " \t\t\t\t\t\t\t\t\t</h2>,\n",
              " <h2 class=\"companyCardWrapper__companyName\" title=\"Concentrix Corporation\">\n",
              " \t\t\t\t\t\t\t\t\t\tConcentrix Corporation\n",
              " \t\t\t\t\t\t\t\t\t</h2>,\n",
              " <h2 class=\"companyCardWrapper__companyName\" title=\"Jio\">\n",
              " \t\t\t\t\t\t\t\t\t\tJio\n",
              " \t\t\t\t\t\t\t\t\t</h2>,\n",
              " <h2 class=\"companyCardWrapper__companyName\" title=\"Amazon\">\n",
              " \t\t\t\t\t\t\t\t\t\tAmazon\n",
              " \t\t\t\t\t\t\t\t\t</h2>,\n",
              " <h2 class=\"companyCardWrapper__companyName\" title=\"IBM\">\n",
              " \t\t\t\t\t\t\t\t\t\tIBM\n",
              " \t\t\t\t\t\t\t\t\t</h2>,\n",
              " <h2 class=\"companyCardWrapper__companyName\" title=\"Reliance Retail\">\n",
              " \t\t\t\t\t\t\t\t\t\tReliance Retail\n",
              " \t\t\t\t\t\t\t\t\t</h2>,\n",
              " <h2 class=\"companyCardWrapper__companyName\" title=\"HDB Financial Services\">\n",
              " \t\t\t\t\t\t\t\t\t\tHDB Financial Services\n",
              " \t\t\t\t\t\t\t\t\t</h2>,\n",
              " <h2 class=\"companyCardWrapper__companyName\" title=\"Larsen &amp; Toubro Limited\">\n",
              " \t\t\t\t\t\t\t\t\t\tLarsen &amp; Toubro Limited\n",
              " \t\t\t\t\t\t\t\t\t</h2>,\n",
              " <h2 class=\"main-title body-medium\">\n",
              " \t\t\tCompanies by  Industry\n",
              " \t\t</h2>,\n",
              " <h2 class=\"main-title body-medium\">\n",
              " \t\t\tCompanies by  Locations\n",
              " \t\t</h2>,\n",
              " <h2 class=\"main-title body-medium\">\n",
              " \t\t\tCompanies by  Type\n",
              " \t\t</h2>,\n",
              " <h2 class=\"main-title body-medium\">\n",
              " \t\t\tCompanies by  Badges\n",
              " \t\t</h2>]"
            ]
          },
          "metadata": {},
          "execution_count": 170
        }
      ]
    },
    {
      "cell_type": "code",
      "source": [
        "(soup.find_all('h2')[0].text).strip()"
      ],
      "metadata": {
        "colab": {
          "base_uri": "https://localhost:8080/",
          "height": 35
        },
        "id": "QTMdOOyH9lI1",
        "outputId": "ac913245-b9e2-4f0f-940d-98b0c9c2fb7f"
      },
      "execution_count": 171,
      "outputs": [
        {
          "output_type": "execute_result",
          "data": {
            "text/plain": [
              "'TCS'"
            ],
            "application/vnd.google.colaboratory.intrinsic+json": {
              "type": "string"
            }
          },
          "metadata": {},
          "execution_count": 171
        }
      ]
    },
    {
      "cell_type": "code",
      "source": [
        "for i in soup.find_all('h2'):\n",
        "  print(i.text.strip())"
      ],
      "metadata": {
        "colab": {
          "base_uri": "https://localhost:8080/"
        },
        "id": "8XxaKGVR98uy",
        "outputId": "28786f21-9ad8-47fb-d68b-208c45cbac46"
      },
      "execution_count": 172,
      "outputs": [
        {
          "output_type": "stream",
          "name": "stdout",
          "text": [
            "TCS\n",
            "Accenture\n",
            "Cognizant\n",
            "Wipro\n",
            "Capgemini\n",
            "HDFC Bank\n",
            "ICICI Bank\n",
            "Infosys\n",
            "HCLTech\n",
            "Tech Mahindra\n",
            "Genpact\n",
            "Axis Bank\n",
            "Teleperformance\n",
            "Concentrix Corporation\n",
            "Jio\n",
            "Amazon\n",
            "IBM\n",
            "Reliance Retail\n",
            "HDB Financial Services\n",
            "Larsen & Toubro Limited\n",
            "Companies by  Industry\n",
            "Companies by  Locations\n",
            "Companies by  Type\n",
            "Companies by  Badges\n"
          ]
        }
      ]
    },
    {
      "cell_type": "markdown",
      "source": [
        "#since in above company's name these are also appear:--\n",
        "Companies by  Industry\n",
        "\n",
        "Companies by  Locations\n",
        "\n",
        "Companies by  Type\n",
        "\n",
        "Companies by  Badges\n",
        "\n",
        "due to h2 tag.\n",
        "#so we will also use class with tag"
      ],
      "metadata": {
        "id": "HFr4IgSNFwWU"
      }
    },
    {
      "cell_type": "code",
      "source": [
        "comp_names=[]\n",
        "for i in soup.find_all('h2',class_=\"companyCardWrapper__companyName\"):\n",
        "  print(i.text.strip())\n",
        "  comp_names.append(i.text.strip())"
      ],
      "metadata": {
        "colab": {
          "base_uri": "https://localhost:8080/"
        },
        "id": "7yIz7Qf7GXmP",
        "outputId": "9d423719-94ec-417c-aea0-1bd246bc4720"
      },
      "execution_count": 173,
      "outputs": [
        {
          "output_type": "stream",
          "name": "stdout",
          "text": [
            "TCS\n",
            "Accenture\n",
            "Cognizant\n",
            "Wipro\n",
            "Capgemini\n",
            "HDFC Bank\n",
            "ICICI Bank\n",
            "Infosys\n",
            "HCLTech\n",
            "Tech Mahindra\n",
            "Genpact\n",
            "Axis Bank\n",
            "Teleperformance\n",
            "Concentrix Corporation\n",
            "Jio\n",
            "Amazon\n",
            "IBM\n",
            "Reliance Retail\n",
            "HDB Financial Services\n",
            "Larsen & Toubro Limited\n"
          ]
        }
      ]
    },
    {
      "cell_type": "code",
      "source": [
        "comp_names"
      ],
      "metadata": {
        "colab": {
          "base_uri": "https://localhost:8080/"
        },
        "id": "5Hkc64WkIRG1",
        "outputId": "2022bbd4-4426-47a4-dc42-ba983296cf4c"
      },
      "execution_count": 174,
      "outputs": [
        {
          "output_type": "execute_result",
          "data": {
            "text/plain": [
              "['TCS',\n",
              " 'Accenture',\n",
              " 'Cognizant',\n",
              " 'Wipro',\n",
              " 'Capgemini',\n",
              " 'HDFC Bank',\n",
              " 'ICICI Bank',\n",
              " 'Infosys',\n",
              " 'HCLTech',\n",
              " 'Tech Mahindra',\n",
              " 'Genpact',\n",
              " 'Axis Bank',\n",
              " 'Teleperformance',\n",
              " 'Concentrix Corporation',\n",
              " 'Jio',\n",
              " 'Amazon',\n",
              " 'IBM',\n",
              " 'Reliance Retail',\n",
              " 'HDB Financial Services',\n",
              " 'Larsen & Toubro Limited']"
            ]
          },
          "metadata": {},
          "execution_count": 174
        }
      ]
    },
    {
      "cell_type": "code",
      "source": [
        "#Lets print the total company names in first page\n",
        "len(comp_names)"
      ],
      "metadata": {
        "colab": {
          "base_uri": "https://localhost:8080/"
        },
        "id": "eXCmU4OfGxiY",
        "outputId": "c7b9e505-f0fd-48e3-a166-2a60dbcec76d"
      },
      "execution_count": 175,
      "outputs": [
        {
          "output_type": "execute_result",
          "data": {
            "text/plain": [
              "20"
            ]
          },
          "metadata": {},
          "execution_count": 175
        }
      ]
    },
    {
      "cell_type": "markdown",
      "source": [
        "#congrats piyush you get th name of all companies from first html page"
      ],
      "metadata": {
        "id": "LemdQLUM_yfD"
      }
    },
    {
      "cell_type": "code",
      "source": [
        "#Now let's extract the rating\n",
        "(soup.find_all('span',class_=\"companyCardWrapper__companyRatingValue\")[0]).text"
      ],
      "metadata": {
        "colab": {
          "base_uri": "https://localhost:8080/",
          "height": 35
        },
        "id": "IYJ1UGTo_xWg",
        "outputId": "f115c897-8423-45ed-b3a8-11a1faf6501f"
      },
      "execution_count": 176,
      "outputs": [
        {
          "output_type": "execute_result",
          "data": {
            "text/plain": [
              "'3.8'"
            ],
            "application/vnd.google.colaboratory.intrinsic+json": {
              "type": "string"
            }
          },
          "metadata": {},
          "execution_count": 176
        }
      ]
    },
    {
      "cell_type": "code",
      "source": [
        "comp_ratings=[]\n",
        "for i in soup.find_all('span',class_=\"companyCardWrapper__companyRatingValue\"):\n",
        "  print(i.text)\n",
        "  comp_ratings.append(i.text)"
      ],
      "metadata": {
        "colab": {
          "base_uri": "https://localhost:8080/"
        },
        "id": "6oEQvYaG_ttI",
        "outputId": "5628f9ad-2862-4188-8fce-9fafa26dde78"
      },
      "execution_count": 177,
      "outputs": [
        {
          "output_type": "stream",
          "name": "stdout",
          "text": [
            "3.8\n",
            "4.0\n",
            "3.9\n",
            "3.8\n",
            "3.8\n",
            "4.0\n",
            "4.0\n",
            "3.8\n",
            "3.7\n",
            "3.7\n",
            "3.9\n",
            "3.9\n",
            "3.8\n",
            "3.9\n",
            "4.0\n",
            "4.1\n",
            "4.1\n",
            "4.0\n",
            "4.0\n",
            "4.1\n"
          ]
        }
      ]
    },
    {
      "cell_type": "code",
      "source": [
        "len(comp_ratings)"
      ],
      "metadata": {
        "colab": {
          "base_uri": "https://localhost:8080/"
        },
        "id": "D4n_iJqrIs9u",
        "outputId": "16eb1ed2-a3ed-4aa3-da4a-f87290ac4fda"
      },
      "execution_count": 178,
      "outputs": [
        {
          "output_type": "execute_result",
          "data": {
            "text/plain": [
              "20"
            ]
          },
          "metadata": {},
          "execution_count": 178
        }
      ]
    },
    {
      "cell_type": "markdown",
      "source": [
        "#Yeh!! i also extract the ratings of the comapnies"
      ],
      "metadata": {
        "id": "NoQ6quUeG3s9"
      }
    },
    {
      "cell_type": "code",
      "source": [
        "#let's create dataframe\n",
        "comp=dict(Company_names=comp_names,Rating_values=comp_ratings)\n",
        "#comp_info=pd.DataFrame(Com)\n",
        "comp"
      ],
      "metadata": {
        "colab": {
          "base_uri": "https://localhost:8080/"
        },
        "id": "Ojs6fCbIIz7a",
        "outputId": "dc917c97-faf6-46e9-f756-491cf1cae36b"
      },
      "execution_count": 179,
      "outputs": [
        {
          "output_type": "execute_result",
          "data": {
            "text/plain": [
              "{'Company_names': ['TCS',\n",
              "  'Accenture',\n",
              "  'Cognizant',\n",
              "  'Wipro',\n",
              "  'Capgemini',\n",
              "  'HDFC Bank',\n",
              "  'ICICI Bank',\n",
              "  'Infosys',\n",
              "  'HCLTech',\n",
              "  'Tech Mahindra',\n",
              "  'Genpact',\n",
              "  'Axis Bank',\n",
              "  'Teleperformance',\n",
              "  'Concentrix Corporation',\n",
              "  'Jio',\n",
              "  'Amazon',\n",
              "  'IBM',\n",
              "  'Reliance Retail',\n",
              "  'HDB Financial Services',\n",
              "  'Larsen & Toubro Limited'],\n",
              " 'Rating_values': ['3.8',\n",
              "  '4.0',\n",
              "  '3.9',\n",
              "  '3.8',\n",
              "  '3.8',\n",
              "  '4.0',\n",
              "  '4.0',\n",
              "  '3.8',\n",
              "  '3.7',\n",
              "  '3.7',\n",
              "  '3.9',\n",
              "  '3.9',\n",
              "  '3.8',\n",
              "  '3.9',\n",
              "  '4.0',\n",
              "  '4.1',\n",
              "  '4.1',\n",
              "  '4.0',\n",
              "  '4.0',\n",
              "  '4.1']}"
            ]
          },
          "metadata": {},
          "execution_count": 179
        }
      ]
    },
    {
      "cell_type": "markdown",
      "source": [
        "#Let's create dataframe of companys names and rating values"
      ],
      "metadata": {
        "id": "v_AsniyuL_k6"
      }
    },
    {
      "cell_type": "code",
      "source": [
        "comp_df=pd.DataFrame(comp)\n",
        "comp_df.head()"
      ],
      "metadata": {
        "colab": {
          "base_uri": "https://localhost:8080/",
          "height": 206
        },
        "id": "lN_BNr-yE2Gm",
        "outputId": "187dee95-bbd6-43e5-95b9-1e4b0d3d0845"
      },
      "execution_count": 180,
      "outputs": [
        {
          "output_type": "execute_result",
          "data": {
            "text/plain": [
              "  Company_names Rating_values\n",
              "0           TCS           3.8\n",
              "1     Accenture           4.0\n",
              "2     Cognizant           3.9\n",
              "3         Wipro           3.8\n",
              "4     Capgemini           3.8"
            ],
            "text/html": [
              "\n",
              "  <div id=\"df-12af6fc2-1e08-49bf-824c-79b8b8b418da\" class=\"colab-df-container\">\n",
              "    <div>\n",
              "<style scoped>\n",
              "    .dataframe tbody tr th:only-of-type {\n",
              "        vertical-align: middle;\n",
              "    }\n",
              "\n",
              "    .dataframe tbody tr th {\n",
              "        vertical-align: top;\n",
              "    }\n",
              "\n",
              "    .dataframe thead th {\n",
              "        text-align: right;\n",
              "    }\n",
              "</style>\n",
              "<table border=\"1\" class=\"dataframe\">\n",
              "  <thead>\n",
              "    <tr style=\"text-align: right;\">\n",
              "      <th></th>\n",
              "      <th>Company_names</th>\n",
              "      <th>Rating_values</th>\n",
              "    </tr>\n",
              "  </thead>\n",
              "  <tbody>\n",
              "    <tr>\n",
              "      <th>0</th>\n",
              "      <td>TCS</td>\n",
              "      <td>3.8</td>\n",
              "    </tr>\n",
              "    <tr>\n",
              "      <th>1</th>\n",
              "      <td>Accenture</td>\n",
              "      <td>4.0</td>\n",
              "    </tr>\n",
              "    <tr>\n",
              "      <th>2</th>\n",
              "      <td>Cognizant</td>\n",
              "      <td>3.9</td>\n",
              "    </tr>\n",
              "    <tr>\n",
              "      <th>3</th>\n",
              "      <td>Wipro</td>\n",
              "      <td>3.8</td>\n",
              "    </tr>\n",
              "    <tr>\n",
              "      <th>4</th>\n",
              "      <td>Capgemini</td>\n",
              "      <td>3.8</td>\n",
              "    </tr>\n",
              "  </tbody>\n",
              "</table>\n",
              "</div>\n",
              "    <div class=\"colab-df-buttons\">\n",
              "\n",
              "  <div class=\"colab-df-container\">\n",
              "    <button class=\"colab-df-convert\" onclick=\"convertToInteractive('df-12af6fc2-1e08-49bf-824c-79b8b8b418da')\"\n",
              "            title=\"Convert this dataframe to an interactive table.\"\n",
              "            style=\"display:none;\">\n",
              "\n",
              "  <svg xmlns=\"http://www.w3.org/2000/svg\" height=\"24px\" viewBox=\"0 -960 960 960\">\n",
              "    <path d=\"M120-120v-720h720v720H120Zm60-500h600v-160H180v160Zm220 220h160v-160H400v160Zm0 220h160v-160H400v160ZM180-400h160v-160H180v160Zm440 0h160v-160H620v160ZM180-180h160v-160H180v160Zm440 0h160v-160H620v160Z\"/>\n",
              "  </svg>\n",
              "    </button>\n",
              "\n",
              "  <style>\n",
              "    .colab-df-container {\n",
              "      display:flex;\n",
              "      gap: 12px;\n",
              "    }\n",
              "\n",
              "    .colab-df-convert {\n",
              "      background-color: #E8F0FE;\n",
              "      border: none;\n",
              "      border-radius: 50%;\n",
              "      cursor: pointer;\n",
              "      display: none;\n",
              "      fill: #1967D2;\n",
              "      height: 32px;\n",
              "      padding: 0 0 0 0;\n",
              "      width: 32px;\n",
              "    }\n",
              "\n",
              "    .colab-df-convert:hover {\n",
              "      background-color: #E2EBFA;\n",
              "      box-shadow: 0px 1px 2px rgba(60, 64, 67, 0.3), 0px 1px 3px 1px rgba(60, 64, 67, 0.15);\n",
              "      fill: #174EA6;\n",
              "    }\n",
              "\n",
              "    .colab-df-buttons div {\n",
              "      margin-bottom: 4px;\n",
              "    }\n",
              "\n",
              "    [theme=dark] .colab-df-convert {\n",
              "      background-color: #3B4455;\n",
              "      fill: #D2E3FC;\n",
              "    }\n",
              "\n",
              "    [theme=dark] .colab-df-convert:hover {\n",
              "      background-color: #434B5C;\n",
              "      box-shadow: 0px 1px 3px 1px rgba(0, 0, 0, 0.15);\n",
              "      filter: drop-shadow(0px 1px 2px rgba(0, 0, 0, 0.3));\n",
              "      fill: #FFFFFF;\n",
              "    }\n",
              "  </style>\n",
              "\n",
              "    <script>\n",
              "      const buttonEl =\n",
              "        document.querySelector('#df-12af6fc2-1e08-49bf-824c-79b8b8b418da button.colab-df-convert');\n",
              "      buttonEl.style.display =\n",
              "        google.colab.kernel.accessAllowed ? 'block' : 'none';\n",
              "\n",
              "      async function convertToInteractive(key) {\n",
              "        const element = document.querySelector('#df-12af6fc2-1e08-49bf-824c-79b8b8b418da');\n",
              "        const dataTable =\n",
              "          await google.colab.kernel.invokeFunction('convertToInteractive',\n",
              "                                                    [key], {});\n",
              "        if (!dataTable) return;\n",
              "\n",
              "        const docLinkHtml = 'Like what you see? Visit the ' +\n",
              "          '<a target=\"_blank\" href=https://colab.research.google.com/notebooks/data_table.ipynb>data table notebook</a>'\n",
              "          + ' to learn more about interactive tables.';\n",
              "        element.innerHTML = '';\n",
              "        dataTable['output_type'] = 'display_data';\n",
              "        await google.colab.output.renderOutput(dataTable, element);\n",
              "        const docLink = document.createElement('div');\n",
              "        docLink.innerHTML = docLinkHtml;\n",
              "        element.appendChild(docLink);\n",
              "      }\n",
              "    </script>\n",
              "  </div>\n",
              "\n",
              "\n",
              "<div id=\"df-ce68dff9-754e-4d82-8a3b-9086054eea48\">\n",
              "  <button class=\"colab-df-quickchart\" onclick=\"quickchart('df-ce68dff9-754e-4d82-8a3b-9086054eea48')\"\n",
              "            title=\"Suggest charts\"\n",
              "            style=\"display:none;\">\n",
              "\n",
              "<svg xmlns=\"http://www.w3.org/2000/svg\" height=\"24px\"viewBox=\"0 0 24 24\"\n",
              "     width=\"24px\">\n",
              "    <g>\n",
              "        <path d=\"M19 3H5c-1.1 0-2 .9-2 2v14c0 1.1.9 2 2 2h14c1.1 0 2-.9 2-2V5c0-1.1-.9-2-2-2zM9 17H7v-7h2v7zm4 0h-2V7h2v10zm4 0h-2v-4h2v4z\"/>\n",
              "    </g>\n",
              "</svg>\n",
              "  </button>\n",
              "\n",
              "<style>\n",
              "  .colab-df-quickchart {\n",
              "      --bg-color: #E8F0FE;\n",
              "      --fill-color: #1967D2;\n",
              "      --hover-bg-color: #E2EBFA;\n",
              "      --hover-fill-color: #174EA6;\n",
              "      --disabled-fill-color: #AAA;\n",
              "      --disabled-bg-color: #DDD;\n",
              "  }\n",
              "\n",
              "  [theme=dark] .colab-df-quickchart {\n",
              "      --bg-color: #3B4455;\n",
              "      --fill-color: #D2E3FC;\n",
              "      --hover-bg-color: #434B5C;\n",
              "      --hover-fill-color: #FFFFFF;\n",
              "      --disabled-bg-color: #3B4455;\n",
              "      --disabled-fill-color: #666;\n",
              "  }\n",
              "\n",
              "  .colab-df-quickchart {\n",
              "    background-color: var(--bg-color);\n",
              "    border: none;\n",
              "    border-radius: 50%;\n",
              "    cursor: pointer;\n",
              "    display: none;\n",
              "    fill: var(--fill-color);\n",
              "    height: 32px;\n",
              "    padding: 0;\n",
              "    width: 32px;\n",
              "  }\n",
              "\n",
              "  .colab-df-quickchart:hover {\n",
              "    background-color: var(--hover-bg-color);\n",
              "    box-shadow: 0 1px 2px rgba(60, 64, 67, 0.3), 0 1px 3px 1px rgba(60, 64, 67, 0.15);\n",
              "    fill: var(--button-hover-fill-color);\n",
              "  }\n",
              "\n",
              "  .colab-df-quickchart-complete:disabled,\n",
              "  .colab-df-quickchart-complete:disabled:hover {\n",
              "    background-color: var(--disabled-bg-color);\n",
              "    fill: var(--disabled-fill-color);\n",
              "    box-shadow: none;\n",
              "  }\n",
              "\n",
              "  .colab-df-spinner {\n",
              "    border: 2px solid var(--fill-color);\n",
              "    border-color: transparent;\n",
              "    border-bottom-color: var(--fill-color);\n",
              "    animation:\n",
              "      spin 1s steps(1) infinite;\n",
              "  }\n",
              "\n",
              "  @keyframes spin {\n",
              "    0% {\n",
              "      border-color: transparent;\n",
              "      border-bottom-color: var(--fill-color);\n",
              "      border-left-color: var(--fill-color);\n",
              "    }\n",
              "    20% {\n",
              "      border-color: transparent;\n",
              "      border-left-color: var(--fill-color);\n",
              "      border-top-color: var(--fill-color);\n",
              "    }\n",
              "    30% {\n",
              "      border-color: transparent;\n",
              "      border-left-color: var(--fill-color);\n",
              "      border-top-color: var(--fill-color);\n",
              "      border-right-color: var(--fill-color);\n",
              "    }\n",
              "    40% {\n",
              "      border-color: transparent;\n",
              "      border-right-color: var(--fill-color);\n",
              "      border-top-color: var(--fill-color);\n",
              "    }\n",
              "    60% {\n",
              "      border-color: transparent;\n",
              "      border-right-color: var(--fill-color);\n",
              "    }\n",
              "    80% {\n",
              "      border-color: transparent;\n",
              "      border-right-color: var(--fill-color);\n",
              "      border-bottom-color: var(--fill-color);\n",
              "    }\n",
              "    90% {\n",
              "      border-color: transparent;\n",
              "      border-bottom-color: var(--fill-color);\n",
              "    }\n",
              "  }\n",
              "</style>\n",
              "\n",
              "  <script>\n",
              "    async function quickchart(key) {\n",
              "      const quickchartButtonEl =\n",
              "        document.querySelector('#' + key + ' button');\n",
              "      quickchartButtonEl.disabled = true;  // To prevent multiple clicks.\n",
              "      quickchartButtonEl.classList.add('colab-df-spinner');\n",
              "      try {\n",
              "        const charts = await google.colab.kernel.invokeFunction(\n",
              "            'suggestCharts', [key], {});\n",
              "      } catch (error) {\n",
              "        console.error('Error during call to suggestCharts:', error);\n",
              "      }\n",
              "      quickchartButtonEl.classList.remove('colab-df-spinner');\n",
              "      quickchartButtonEl.classList.add('colab-df-quickchart-complete');\n",
              "    }\n",
              "    (() => {\n",
              "      let quickchartButtonEl =\n",
              "        document.querySelector('#df-ce68dff9-754e-4d82-8a3b-9086054eea48 button');\n",
              "      quickchartButtonEl.style.display =\n",
              "        google.colab.kernel.accessAllowed ? 'block' : 'none';\n",
              "    })();\n",
              "  </script>\n",
              "</div>\n",
              "\n",
              "    </div>\n",
              "  </div>\n"
            ],
            "application/vnd.google.colaboratory.intrinsic+json": {
              "type": "dataframe",
              "variable_name": "comp_df",
              "summary": "{\n  \"name\": \"comp_df\",\n  \"rows\": 20,\n  \"fields\": [\n    {\n      \"column\": \"Company_names\",\n      \"properties\": {\n        \"dtype\": \"string\",\n        \"num_unique_values\": 20,\n        \"samples\": [\n          \"TCS\",\n          \"Reliance Retail\",\n          \"Amazon\"\n        ],\n        \"semantic_type\": \"\",\n        \"description\": \"\"\n      }\n    },\n    {\n      \"column\": \"Rating_values\",\n      \"properties\": {\n        \"dtype\": \"category\",\n        \"num_unique_values\": 5,\n        \"samples\": [\n          \"4.0\",\n          \"4.1\",\n          \"3.9\"\n        ],\n        \"semantic_type\": \"\",\n        \"description\": \"\"\n      }\n    }\n  ]\n}"
            }
          },
          "metadata": {},
          "execution_count": 180
        }
      ]
    },
    {
      "cell_type": "code",
      "source": [
        "comp_df.info()"
      ],
      "metadata": {
        "colab": {
          "base_uri": "https://localhost:8080/"
        },
        "id": "Nci6kb6kKNqn",
        "outputId": "314be891-0554-4c70-b22c-3e0bd76b709b"
      },
      "execution_count": 181,
      "outputs": [
        {
          "output_type": "stream",
          "name": "stdout",
          "text": [
            "<class 'pandas.core.frame.DataFrame'>\n",
            "RangeIndex: 20 entries, 0 to 19\n",
            "Data columns (total 2 columns):\n",
            " #   Column         Non-Null Count  Dtype \n",
            "---  ------         --------------  ----- \n",
            " 0   Company_names  20 non-null     object\n",
            " 1   Rating_values  20 non-null     object\n",
            "dtypes: object(2)\n",
            "memory usage: 448.0+ bytes\n"
          ]
        }
      ]
    },
    {
      "cell_type": "code",
      "source": [
        "#changing the datatype of Rating_values to float\n",
        "comp_df[[\"Rating_values\"]]=comp_df[[\"Rating_values\"]].astype(float)"
      ],
      "metadata": {
        "id": "yrZPPVJGMf23"
      },
      "execution_count": 182,
      "outputs": []
    },
    {
      "cell_type": "code",
      "source": [
        "comp_df.info()"
      ],
      "metadata": {
        "colab": {
          "base_uri": "https://localhost:8080/"
        },
        "id": "DKo2VkCGL1mW",
        "outputId": "239651d9-a340-49f2-b8ee-eec0fced85bb"
      },
      "execution_count": 183,
      "outputs": [
        {
          "output_type": "stream",
          "name": "stdout",
          "text": [
            "<class 'pandas.core.frame.DataFrame'>\n",
            "RangeIndex: 20 entries, 0 to 19\n",
            "Data columns (total 2 columns):\n",
            " #   Column         Non-Null Count  Dtype  \n",
            "---  ------         --------------  -----  \n",
            " 0   Company_names  20 non-null     object \n",
            " 1   Rating_values  20 non-null     float64\n",
            "dtypes: float64(1), object(1)\n",
            "memory usage: 448.0+ bytes\n"
          ]
        }
      ]
    },
    {
      "cell_type": "markdown",
      "source": [
        "#Highest rating company name:--"
      ],
      "metadata": {
        "id": "4QJEd7GLcpdP"
      }
    },
    {
      "cell_type": "code",
      "source": [
        "highest_rating_index=comp_df['Rating_values'].idxmax()\n",
        "highest_rating_index\n"
      ],
      "metadata": {
        "colab": {
          "base_uri": "https://localhost:8080/"
        },
        "id": "xTh7rWnpNFkH",
        "outputId": "fc52edf5-fa6b-4d44-cb1d-4bfcccf65b78"
      },
      "execution_count": 184,
      "outputs": [
        {
          "output_type": "execute_result",
          "data": {
            "text/plain": [
              "15"
            ]
          },
          "metadata": {},
          "execution_count": 184
        }
      ]
    },
    {
      "cell_type": "code",
      "source": [
        "comp_name_at_highest_rating_index=comp_df.loc[highest_rating_index,'Company_names']\n",
        "print(\"The highest rating company is : \",comp_name_at_highest_rating_index)"
      ],
      "metadata": {
        "colab": {
          "base_uri": "https://localhost:8080/"
        },
        "id": "fqQxZQKgcD53",
        "outputId": "e4bdb99f-4e26-4ff3-f461-6b6ce1f3a7f5"
      },
      "execution_count": 185,
      "outputs": [
        {
          "output_type": "stream",
          "name": "stdout",
          "text": [
            "The highest rating company is :  Amazon\n"
          ]
        }
      ]
    },
    {
      "cell_type": "code",
      "source": [],
      "metadata": {
        "id": "ygCKz4v8dEDz"
      },
      "execution_count": 185,
      "outputs": []
    }
  ]
}