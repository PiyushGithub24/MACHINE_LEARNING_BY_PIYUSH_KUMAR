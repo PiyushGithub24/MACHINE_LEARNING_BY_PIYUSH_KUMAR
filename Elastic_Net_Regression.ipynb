{
  "nbformat": 4,
  "nbformat_minor": 0,
  "metadata": {
    "colab": {
      "provenance": [],
      "authorship_tag": "ABX9TyPZW2puZXY/oBrzYhNwWc3R",
      "include_colab_link": true
    },
    "kernelspec": {
      "name": "python3",
      "display_name": "Python 3"
    },
    "language_info": {
      "name": "python"
    }
  },
  "cells": [
    {
      "cell_type": "markdown",
      "metadata": {
        "id": "view-in-github",
        "colab_type": "text"
      },
      "source": [
        "<a href=\"https://colab.research.google.com/github/PiyushGithub24/MACHINE_LEARNING_BY_PIYUSH_KUMAR/blob/main/Elastic_Net_Regression.ipynb\" target=\"_parent\"><img src=\"https://colab.research.google.com/assets/colab-badge.svg\" alt=\"Open In Colab\"/></a>"
      ]
    },
    {
      "cell_type": "code",
      "execution_count": null,
      "metadata": {
        "id": "tqYM1coUlS_b"
      },
      "outputs": [],
      "source": [
        "from sklearn.datasets import load_diabetes\n",
        "from sklearn.model_selection import train_test_split\n",
        "from sklearn.linear_model import LinearRegression, Ridge, Lasso, ElasticNet\n",
        "from sklearn.metrics import r2_score"
      ]
    },
    {
      "cell_type": "code",
      "source": [
        "X,y=load_diabetes(return_X_y=True)\n",
        "X.shape, y.shape"
      ],
      "metadata": {
        "colab": {
          "base_uri": "https://localhost:8080/"
        },
        "id": "9id2nS60l5tt",
        "outputId": "1be35b61-a5de-4b24-8555-368e2d894812"
      },
      "execution_count": null,
      "outputs": [
        {
          "output_type": "execute_result",
          "data": {
            "text/plain": [
              "((442, 10), (442,))"
            ]
          },
          "metadata": {},
          "execution_count": 2
        }
      ]
    },
    {
      "cell_type": "code",
      "source": [
        "X_train, X_test, y_train, y_test=train_test_split(X,y,test_size=0.2,random_state=2)\n",
        "X_train.shape, X_test.shape"
      ],
      "metadata": {
        "colab": {
          "base_uri": "https://localhost:8080/"
        },
        "id": "s1UTNIabmRiY",
        "outputId": "8bb89e04-d712-433a-9b50-38fa84b69dad"
      },
      "execution_count": null,
      "outputs": [
        {
          "output_type": "execute_result",
          "data": {
            "text/plain": [
              "((353, 10), (89, 10))"
            ]
          },
          "metadata": {},
          "execution_count": 4
        }
      ]
    },
    {
      "cell_type": "markdown",
      "source": [
        "#Linear Regression:--"
      ],
      "metadata": {
        "id": "LU85W4kOn9CJ"
      }
    },
    {
      "cell_type": "code",
      "source": [
        "lin=LinearRegression()\n",
        "lin.fit(X_train,y_train)\n",
        "y_pred1=lin.predict(X_test)\n",
        "print(\"r2_score :\",r2_score(y_test,y_pred1))"
      ],
      "metadata": {
        "colab": {
          "base_uri": "https://localhost:8080/"
        },
        "id": "ajW54xjumTxy",
        "outputId": "0bacdc42-32a7-4e58-fd03-dd5c84d86a96"
      },
      "execution_count": null,
      "outputs": [
        {
          "output_type": "stream",
          "name": "stdout",
          "text": [
            "r2_score : 0.4399338661568968\n"
          ]
        }
      ]
    },
    {
      "cell_type": "markdown",
      "source": [
        "#Ridge Regression :-"
      ],
      "metadata": {
        "id": "xtHdM6waoByf"
      }
    },
    {
      "cell_type": "code",
      "source": [
        "ridge=Ridge(alpha=0.20)\n",
        "ridge.fit(X_train,y_train)\n",
        "y_pred2=ridge.predict(X_test)\n",
        "print(\"r2_score :\",r2_score(y_test,y_pred2))"
      ],
      "metadata": {
        "colab": {
          "base_uri": "https://localhost:8080/"
        },
        "id": "4I6wnxTtmmgi",
        "outputId": "6e4f4207-322e-49bd-820e-1fee2e781856"
      },
      "execution_count": null,
      "outputs": [
        {
          "output_type": "stream",
          "name": "stdout",
          "text": [
            "r2_score : 0.45353669074105607\n"
          ]
        }
      ]
    },
    {
      "cell_type": "markdown",
      "source": [
        "#Lasso Regression :-"
      ],
      "metadata": {
        "id": "ygjEcSF7oFfX"
      }
    },
    {
      "cell_type": "code",
      "source": [
        "lasso=Lasso(alpha=0.01)\n",
        "lasso.fit(X_train,y_train)\n",
        "y_pred3=lasso.predict(X_test)\n",
        "print(\"r2_score :\",r2_score(y_test,y_pred3))"
      ],
      "metadata": {
        "colab": {
          "base_uri": "https://localhost:8080/"
        },
        "id": "XoFvo1HgnA2A",
        "outputId": "4f1ef39c-790c-4393-c07c-2ce4b71ecbbc"
      },
      "execution_count": null,
      "outputs": [
        {
          "output_type": "stream",
          "name": "stdout",
          "text": [
            "r2_score : 0.44111855963110613\n"
          ]
        }
      ]
    },
    {
      "cell_type": "markdown",
      "source": [
        "#ElasticNet Regression :-"
      ],
      "metadata": {
        "id": "bbyy0wF1oHQH"
      }
    },
    {
      "cell_type": "code",
      "source": [
        "elastic=ElasticNet(alpha=0.0052, l1_ratio=0.91)\n",
        "elastic.fit(X_train,y_train)\n",
        "y_pred4=elastic.predict(X_test)\n",
        "print(\"r2_score :\",r2_score(y_test,y_pred4))"
      ],
      "metadata": {
        "colab": {
          "base_uri": "https://localhost:8080/"
        },
        "id": "KefVmsijnPeF",
        "outputId": "1079e506-0c0b-4955-dc7e-13ed1b13763b"
      },
      "execution_count": null,
      "outputs": [
        {
          "output_type": "stream",
          "name": "stdout",
          "text": [
            "r2_score : 0.45308830755687357\n"
          ]
        }
      ]
    },
    {
      "cell_type": "code",
      "source": [],
      "metadata": {
        "id": "DhHjFXyan69_"
      },
      "execution_count": null,
      "outputs": []
    }
  ]
}