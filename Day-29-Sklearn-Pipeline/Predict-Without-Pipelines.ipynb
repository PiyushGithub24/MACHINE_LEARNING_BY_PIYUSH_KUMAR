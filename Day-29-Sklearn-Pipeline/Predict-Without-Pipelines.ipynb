{
 "cells": [
  {
   "cell_type": "code",
   "execution_count": 14,
   "id": "936c3cdf-0eb7-403c-b5df-f7d026e8c24d",
   "metadata": {},
   "outputs": [],
   "source": [
    "import pickle\n",
    "import numpy as np"
   ]
  },
  {
   "cell_type": "code",
   "execution_count": 15,
   "id": "a3cf6df8-d54d-4dcc-baba-58832faae90c",
   "metadata": {},
   "outputs": [],
   "source": [
    "ohe_sex=pickle.load(open('model/ohe_sex.pkl','rb'))\n",
    "ohe_embarked=pickle.load(open('model/ohe_embarked.pkl','rb'))\n",
    "clf=pickle.load(open('model/clf.pkl','rb'))"
   ]
  },
  {
   "cell_type": "code",
   "execution_count": 16,
   "id": "82180132-f1cf-4a24-a2d1-cfdd5e318d68",
   "metadata": {},
   "outputs": [],
   "source": [
    "# Assume user input\n",
    "# Pclass/gender/age/SibSp/Parch/Fare/Embarked\n",
    "test_input = np.array([2, 'male', 31.0, 0, 0, 10.5, 'S'],dtype=object).reshape(1,7)"
   ]
  },
  {
   "cell_type": "code",
   "execution_count": 17,
   "id": "94a57297-7551-499b-a836-af58aaf745d2",
   "metadata": {},
   "outputs": [
    {
     "data": {
      "text/plain": [
       "array([[2, 'male', 31.0, 0, 0, 10.5, 'S']], dtype=object)"
      ]
     },
     "execution_count": 17,
     "metadata": {},
     "output_type": "execute_result"
    }
   ],
   "source": [
    "test_input"
   ]
  },
  {
   "cell_type": "code",
   "execution_count": 18,
   "id": "35a6703c-4191-4abc-be81-ff2c080eda99",
   "metadata": {},
   "outputs": [
    {
     "data": {
      "text/plain": [
       "(1,)"
      ]
     },
     "execution_count": 18,
     "metadata": {},
     "output_type": "execute_result"
    }
   ],
   "source": [
    "test_input[:,1].shape"
   ]
  },
  {
   "cell_type": "code",
   "execution_count": 19,
   "id": "faa801a8-81d8-4cfb-a758-51466eaa2e00",
   "metadata": {},
   "outputs": [
    {
     "data": {
      "text/plain": [
       "array([['male']], dtype=object)"
      ]
     },
     "execution_count": 19,
     "metadata": {},
     "output_type": "execute_result"
    }
   ],
   "source": [
    "test_input[:,1].reshape(1,1)"
   ]
  },
  {
   "cell_type": "code",
   "execution_count": 20,
   "id": "48e98dcf-fc3a-4199-bfed-48d8f72c9d76",
   "metadata": {},
   "outputs": [
    {
     "name": "stderr",
     "output_type": "stream",
     "text": [
      "C:\\ProgramData\\anaconda3\\Lib\\site-packages\\sklearn\\base.py:439: UserWarning: X does not have valid feature names, but OneHotEncoder was fitted with feature names\n",
      "  warnings.warn(\n"
     ]
    }
   ],
   "source": [
    "test_input_sex = ohe_sex.transform(test_input[:,1].reshape(1,1))"
   ]
  },
  {
   "cell_type": "code",
   "execution_count": 21,
   "id": "e8935fa6-53ca-4222-90a7-95b63ad9f293",
   "metadata": {},
   "outputs": [
    {
     "data": {
      "text/plain": [
       "array([[0., 1.]])"
      ]
     },
     "execution_count": 21,
     "metadata": {},
     "output_type": "execute_result"
    }
   ],
   "source": [
    "test_input_sex "
   ]
  },
  {
   "cell_type": "code",
   "execution_count": 22,
   "id": "0d6ebc56-92ee-4426-818c-011a506c65fe",
   "metadata": {},
   "outputs": [],
   "source": [
    "test_input_embarked = ohe_embarked.transform(test_input[:,-1].reshape(1,1))"
   ]
  },
  {
   "cell_type": "code",
   "execution_count": 23,
   "id": "6ab302e4-4348-47b6-97fe-cce53ecb3853",
   "metadata": {},
   "outputs": [
    {
     "data": {
      "text/plain": [
       "array([[0., 0., 1.]])"
      ]
     },
     "execution_count": 23,
     "metadata": {},
     "output_type": "execute_result"
    }
   ],
   "source": [
    "test_input_embarked"
   ]
  },
  {
   "cell_type": "code",
   "execution_count": 24,
   "id": "1e51bd59-bff3-4e53-bd59-c9b7ec2560cd",
   "metadata": {},
   "outputs": [],
   "source": [
    "test_input_age = test_input[:,2].reshape(1,1)"
   ]
  },
  {
   "cell_type": "code",
   "execution_count": 25,
   "id": "d8893108-5e25-41cd-aaa4-36a86de563f3",
   "metadata": {},
   "outputs": [],
   "source": [
    "test_input_transformed = np.concatenate((test_input[:,[0,3,4,5]],test_input_age,test_input_sex,test_input_embarked),axis=1)  \n",
    "#this pattern should not be change."
   ]
  },
  {
   "cell_type": "code",
   "execution_count": 26,
   "id": "4c5eca9c-38e4-4ce9-a463-22b15a62756a",
   "metadata": {},
   "outputs": [
    {
     "data": {
      "text/plain": [
       "(1, 10)"
      ]
     },
     "execution_count": 26,
     "metadata": {},
     "output_type": "execute_result"
    }
   ],
   "source": [
    "test_input_transformed.shape"
   ]
  },
  {
   "cell_type": "code",
   "execution_count": 27,
   "id": "51bf9922-ce9c-4f6d-9e86-52885468fffa",
   "metadata": {},
   "outputs": [
    {
     "data": {
      "text/plain": [
       "array([1], dtype=int64)"
      ]
     },
     "execution_count": 27,
     "metadata": {},
     "output_type": "execute_result"
    }
   ],
   "source": [
    "clf.predict(test_input_transformed)"
   ]
  },
  {
   "cell_type": "code",
   "execution_count": 30,
   "id": "7d823dd1-4be3-4618-9308-f54c2053c2ca",
   "metadata": {},
   "outputs": [
    {
     "name": "stdout",
     "output_type": "stream",
     "text": [
      "[1]\n"
     ]
    }
   ],
   "source": [
    "print(clf.predict(test_input_transformed))"
   ]
  },
  {
   "cell_type": "code",
   "execution_count": 31,
   "id": "ba7d7f75-fea0-4608-a6b7-d6601da87ba3",
   "metadata": {},
   "outputs": [
    {
     "name": "stdout",
     "output_type": "stream",
     "text": [
      "1\n"
     ]
    }
   ],
   "source": [
    "print(clf.predict(test_input_transformed)[0])"
   ]
  },
  {
   "cell_type": "code",
   "execution_count": null,
   "id": "34dab46b-5c6b-463c-a4c4-129c85737a7b",
   "metadata": {},
   "outputs": [],
   "source": []
  }
 ],
 "metadata": {
  "kernelspec": {
   "display_name": "Python 3 (ipykernel)",
   "language": "python",
   "name": "python3"
  },
  "language_info": {
   "codemirror_mode": {
    "name": "ipython",
    "version": 3
   },
   "file_extension": ".py",
   "mimetype": "text/x-python",
   "name": "python",
   "nbconvert_exporter": "python",
   "pygments_lexer": "ipython3",
   "version": "3.11.7"
  }
 },
 "nbformat": 4,
 "nbformat_minor": 5
}
