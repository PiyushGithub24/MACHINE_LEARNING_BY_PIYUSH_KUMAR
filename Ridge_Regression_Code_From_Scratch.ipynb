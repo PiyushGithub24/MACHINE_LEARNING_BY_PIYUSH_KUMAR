{
  "nbformat": 4,
  "nbformat_minor": 0,
  "metadata": {
    "colab": {
      "provenance": [],
      "authorship_tag": "ABX9TyNJjmwQ7rfzrrtQqERb0+Wd",
      "include_colab_link": true
    },
    "kernelspec": {
      "name": "python3",
      "display_name": "Python 3"
    },
    "language_info": {
      "name": "python"
    }
  },
  "cells": [
    {
      "cell_type": "markdown",
      "metadata": {
        "id": "view-in-github",
        "colab_type": "text"
      },
      "source": [
        "<a href=\"https://colab.research.google.com/github/PiyushGithub24/MACHINE_LEARNING_BY_PIYUSH_KUMAR/blob/main/Ridge_Regression_Code_From_Scratch.ipynb\" target=\"_parent\"><img src=\"https://colab.research.google.com/assets/colab-badge.svg\" alt=\"Open In Colab\"/></a>"
      ]
    },
    {
      "cell_type": "code",
      "execution_count": 15,
      "metadata": {
        "id": "rvfXl4MOdtmW"
      },
      "outputs": [],
      "source": [
        "from sklearn.datasets import load_diabetes\n",
        "from sklearn.metrics import r2_score\n",
        "import numpy as np\n",
        "import matplotlib.pyplot as plt\n",
        "from sklearn.model_selection import train_test_split"
      ]
    },
    {
      "cell_type": "code",
      "source": [
        "X,y=load_diabetes(return_X_y=True )"
      ],
      "metadata": {
        "id": "auo-McsXeMmC"
      },
      "execution_count": 16,
      "outputs": []
    },
    {
      "cell_type": "code",
      "source": [
        "X_train,X_test,y_train,y_test=train_test_split(X,y,test_size=0.2,random_state=2)"
      ],
      "metadata": {
        "id": "mDuu4PSue48l"
      },
      "execution_count": 17,
      "outputs": []
    },
    {
      "cell_type": "code",
      "source": [
        "X_train.shape ,y_train.shape"
      ],
      "metadata": {
        "colab": {
          "base_uri": "https://localhost:8080/"
        },
        "id": "HQzbjGUDe9VM",
        "outputId": "4131dd90-2509-4a16-fcd6-4d908159bd55"
      },
      "execution_count": 18,
      "outputs": [
        {
          "output_type": "execute_result",
          "data": {
            "text/plain": [
              "((353, 10), (353,))"
            ]
          },
          "metadata": {},
          "execution_count": 18
        }
      ]
    },
    {
      "cell_type": "markdown",
      "source": [
        "#Lets First test the sklearn Ridge class :--"
      ],
      "metadata": {
        "id": "4viP7--Of3Sz"
      }
    },
    {
      "cell_type": "code",
      "source": [
        "from sklearn.linear_model import Ridge\n",
        "reg=Ridge(alpha=0.1 ,solver='cholesky')\n",
        "reg.fit(X_train,y_train)"
      ],
      "metadata": {
        "colab": {
          "base_uri": "https://localhost:8080/",
          "height": 74
        },
        "id": "wPh4H127fC8f",
        "outputId": "fa6186fe-63e3-4287-f52b-f509d5780a1f"
      },
      "execution_count": 19,
      "outputs": [
        {
          "output_type": "execute_result",
          "data": {
            "text/plain": [
              "Ridge(alpha=0.1, solver='cholesky')"
            ],
            "text/html": [
              "<style>#sk-container-id-2 {color: black;}#sk-container-id-2 pre{padding: 0;}#sk-container-id-2 div.sk-toggleable {background-color: white;}#sk-container-id-2 label.sk-toggleable__label {cursor: pointer;display: block;width: 100%;margin-bottom: 0;padding: 0.3em;box-sizing: border-box;text-align: center;}#sk-container-id-2 label.sk-toggleable__label-arrow:before {content: \"▸\";float: left;margin-right: 0.25em;color: #696969;}#sk-container-id-2 label.sk-toggleable__label-arrow:hover:before {color: black;}#sk-container-id-2 div.sk-estimator:hover label.sk-toggleable__label-arrow:before {color: black;}#sk-container-id-2 div.sk-toggleable__content {max-height: 0;max-width: 0;overflow: hidden;text-align: left;background-color: #f0f8ff;}#sk-container-id-2 div.sk-toggleable__content pre {margin: 0.2em;color: black;border-radius: 0.25em;background-color: #f0f8ff;}#sk-container-id-2 input.sk-toggleable__control:checked~div.sk-toggleable__content {max-height: 200px;max-width: 100%;overflow: auto;}#sk-container-id-2 input.sk-toggleable__control:checked~label.sk-toggleable__label-arrow:before {content: \"▾\";}#sk-container-id-2 div.sk-estimator input.sk-toggleable__control:checked~label.sk-toggleable__label {background-color: #d4ebff;}#sk-container-id-2 div.sk-label input.sk-toggleable__control:checked~label.sk-toggleable__label {background-color: #d4ebff;}#sk-container-id-2 input.sk-hidden--visually {border: 0;clip: rect(1px 1px 1px 1px);clip: rect(1px, 1px, 1px, 1px);height: 1px;margin: -1px;overflow: hidden;padding: 0;position: absolute;width: 1px;}#sk-container-id-2 div.sk-estimator {font-family: monospace;background-color: #f0f8ff;border: 1px dotted black;border-radius: 0.25em;box-sizing: border-box;margin-bottom: 0.5em;}#sk-container-id-2 div.sk-estimator:hover {background-color: #d4ebff;}#sk-container-id-2 div.sk-parallel-item::after {content: \"\";width: 100%;border-bottom: 1px solid gray;flex-grow: 1;}#sk-container-id-2 div.sk-label:hover label.sk-toggleable__label {background-color: #d4ebff;}#sk-container-id-2 div.sk-serial::before {content: \"\";position: absolute;border-left: 1px solid gray;box-sizing: border-box;top: 0;bottom: 0;left: 50%;z-index: 0;}#sk-container-id-2 div.sk-serial {display: flex;flex-direction: column;align-items: center;background-color: white;padding-right: 0.2em;padding-left: 0.2em;position: relative;}#sk-container-id-2 div.sk-item {position: relative;z-index: 1;}#sk-container-id-2 div.sk-parallel {display: flex;align-items: stretch;justify-content: center;background-color: white;position: relative;}#sk-container-id-2 div.sk-item::before, #sk-container-id-2 div.sk-parallel-item::before {content: \"\";position: absolute;border-left: 1px solid gray;box-sizing: border-box;top: 0;bottom: 0;left: 50%;z-index: -1;}#sk-container-id-2 div.sk-parallel-item {display: flex;flex-direction: column;z-index: 1;position: relative;background-color: white;}#sk-container-id-2 div.sk-parallel-item:first-child::after {align-self: flex-end;width: 50%;}#sk-container-id-2 div.sk-parallel-item:last-child::after {align-self: flex-start;width: 50%;}#sk-container-id-2 div.sk-parallel-item:only-child::after {width: 0;}#sk-container-id-2 div.sk-dashed-wrapped {border: 1px dashed gray;margin: 0 0.4em 0.5em 0.4em;box-sizing: border-box;padding-bottom: 0.4em;background-color: white;}#sk-container-id-2 div.sk-label label {font-family: monospace;font-weight: bold;display: inline-block;line-height: 1.2em;}#sk-container-id-2 div.sk-label-container {text-align: center;}#sk-container-id-2 div.sk-container {/* jupyter's `normalize.less` sets `[hidden] { display: none; }` but bootstrap.min.css set `[hidden] { display: none !important; }` so we also need the `!important` here to be able to override the default hidden behavior on the sphinx rendered scikit-learn.org. See: https://github.com/scikit-learn/scikit-learn/issues/21755 */display: inline-block !important;position: relative;}#sk-container-id-2 div.sk-text-repr-fallback {display: none;}</style><div id=\"sk-container-id-2\" class=\"sk-top-container\"><div class=\"sk-text-repr-fallback\"><pre>Ridge(alpha=0.1, solver=&#x27;cholesky&#x27;)</pre><b>In a Jupyter environment, please rerun this cell to show the HTML representation or trust the notebook. <br />On GitHub, the HTML representation is unable to render, please try loading this page with nbviewer.org.</b></div><div class=\"sk-container\" hidden><div class=\"sk-item\"><div class=\"sk-estimator sk-toggleable\"><input class=\"sk-toggleable__control sk-hidden--visually\" id=\"sk-estimator-id-2\" type=\"checkbox\" checked><label for=\"sk-estimator-id-2\" class=\"sk-toggleable__label sk-toggleable__label-arrow\">Ridge</label><div class=\"sk-toggleable__content\"><pre>Ridge(alpha=0.1, solver=&#x27;cholesky&#x27;)</pre></div></div></div></div></div>"
            ]
          },
          "metadata": {},
          "execution_count": 19
        }
      ]
    },
    {
      "cell_type": "code",
      "source": [
        "y_pred=reg.predict(X_test)\n",
        "r2_score(y_test,y_pred)"
      ],
      "metadata": {
        "colab": {
          "base_uri": "https://localhost:8080/"
        },
        "id": "sgDFf1Mqfkew",
        "outputId": "8b490f95-05e1-41fd-c97b-36f47d1ce4b9"
      },
      "execution_count": 20,
      "outputs": [
        {
          "output_type": "execute_result",
          "data": {
            "text/plain": [
              "0.45199494197195456"
            ]
          },
          "metadata": {},
          "execution_count": 20
        }
      ]
    },
    {
      "cell_type": "code",
      "source": [
        "print(reg.coef_)\n",
        "print(reg.intercept_)"
      ],
      "metadata": {
        "colab": {
          "base_uri": "https://localhost:8080/"
        },
        "id": "szpaPS3vfk1y",
        "outputId": "6a783d7f-3150-48f2-f756-4770beead26f"
      },
      "execution_count": 21,
      "outputs": [
        {
          "output_type": "stream",
          "name": "stdout",
          "text": [
            "[   6.64373321 -172.23747375  485.52958514  314.67584612  -72.94020918\n",
            "  -80.58868817 -174.46352722   83.61470987  484.36531622   73.58509056]\n",
            "151.92546856900984\n"
          ]
        }
      ]
    },
    {
      "cell_type": "markdown",
      "source": [
        "#Now lets make our own Ridge class:--"
      ],
      "metadata": {
        "id": "PRJfrIuyf_8k"
      }
    },
    {
      "cell_type": "code",
      "source": [
        "X_train"
      ],
      "metadata": {
        "colab": {
          "base_uri": "https://localhost:8080/"
        },
        "id": "bNZz5PW9hBUi",
        "outputId": "743ad163-ee48-4505-89ff-4e2a3b384a6e"
      },
      "execution_count": 22,
      "outputs": [
        {
          "output_type": "execute_result",
          "data": {
            "text/plain": [
              "array([[-0.00188202, -0.04464164, -0.06979687, ..., -0.03949338,\n",
              "        -0.06291688,  0.04034337],\n",
              "       [-0.00914709, -0.04464164,  0.01103904, ..., -0.03949338,\n",
              "         0.01703607, -0.0052198 ],\n",
              "       [ 0.02354575,  0.05068012, -0.02021751, ..., -0.03949338,\n",
              "        -0.09643495, -0.01764613],\n",
              "       ...,\n",
              "       [ 0.06350368,  0.05068012, -0.00405033, ..., -0.00259226,\n",
              "         0.08449153, -0.01764613],\n",
              "       [-0.05273755,  0.05068012, -0.01806189, ...,  0.1081111 ,\n",
              "         0.03606033, -0.04249877],\n",
              "       [ 0.00175052,  0.05068012,  0.05954058, ...,  0.1081111 ,\n",
              "         0.06898589,  0.12732762]])"
            ]
          },
          "metadata": {},
          "execution_count": 22
        }
      ]
    },
    {
      "cell_type": "code",
      "source": [
        "#insert 1 in each row of X_train at first index\n",
        "np.insert(X_train ,0,1,axis=1)"
      ],
      "metadata": {
        "colab": {
          "base_uri": "https://localhost:8080/"
        },
        "id": "ZOOLPq8OhFFB",
        "outputId": "cc44487b-f9c9-4b21-fce9-9fde13212c9c"
      },
      "execution_count": 23,
      "outputs": [
        {
          "output_type": "execute_result",
          "data": {
            "text/plain": [
              "array([[ 1.        , -0.00188202, -0.04464164, ..., -0.03949338,\n",
              "        -0.06291688,  0.04034337],\n",
              "       [ 1.        , -0.00914709, -0.04464164, ..., -0.03949338,\n",
              "         0.01703607, -0.0052198 ],\n",
              "       [ 1.        ,  0.02354575,  0.05068012, ..., -0.03949338,\n",
              "        -0.09643495, -0.01764613],\n",
              "       ...,\n",
              "       [ 1.        ,  0.06350368,  0.05068012, ..., -0.00259226,\n",
              "         0.08449153, -0.01764613],\n",
              "       [ 1.        , -0.05273755,  0.05068012, ...,  0.1081111 ,\n",
              "         0.03606033, -0.04249877],\n",
              "       [ 1.        ,  0.00175052,  0.05068012, ...,  0.1081111 ,\n",
              "         0.06898589,  0.12732762]])"
            ]
          },
          "metadata": {},
          "execution_count": 23
        }
      ]
    },
    {
      "cell_type": "code",
      "source": [
        "class MeraRidge:\n",
        "  def __init__(self,alpha=0.1 ):\n",
        "    self.alpha=alpha\n",
        "    self.coef=None\n",
        "    self.intercept=None\n",
        "\n",
        "  def fit(self ,X_train ,y_train):\n",
        "    X_train=np.insert(X_train ,0,1,axis=1)\n",
        "    I=np.identity(X_train.shape[1])  #identity matrix of shape column * Column in X-train\n",
        "\n",
        "    result=np.linalg.inv(np.dot(X_train.T,X_train) + self.alpha * I).dot(X_train.T).dot(y_train)\n",
        "    self.intercept=result[0]\n",
        "    self.coef=result[1:]\n",
        "\n",
        "\n",
        "  def predict(self,X_test):\n",
        "    return np.dot(X_test, self.coef) + self.intercept\n",
        "\n",
        "\n",
        "  @property\n",
        "  def coef_(self):\n",
        "    return self.coef\n",
        "\n",
        "  @property\n",
        "  def intercept_(self):\n",
        "    return self.intercept"
      ],
      "metadata": {
        "id": "PzGKYVhJfuBQ"
      },
      "execution_count": 33,
      "outputs": []
    },
    {
      "cell_type": "code",
      "source": [
        "reg1=MeraRidge()\n",
        "reg1.fit(X_train,y_train)"
      ],
      "metadata": {
        "id": "hOLgm80cpRxH"
      },
      "execution_count": 34,
      "outputs": []
    },
    {
      "cell_type": "code",
      "source": [
        "y_pred1=reg1.predict(X_test)\n",
        "r2_score(y_test,y_pred1)"
      ],
      "metadata": {
        "colab": {
          "base_uri": "https://localhost:8080/"
        },
        "id": "RVv78CKzpUZP",
        "outputId": "b46c41ca-1208-405e-85f5-008cc72d659e"
      },
      "execution_count": 35,
      "outputs": [
        {
          "output_type": "execute_result",
          "data": {
            "text/plain": [
              "0.4519719082031616"
            ]
          },
          "metadata": {},
          "execution_count": 35
        }
      ]
    },
    {
      "cell_type": "code",
      "source": [
        "print(reg1.coef_)\n",
        "print(reg1.intercept_)"
      ],
      "metadata": {
        "colab": {
          "base_uri": "https://localhost:8080/"
        },
        "id": "VDU_-Bpprna8",
        "outputId": "5fe90060-bae7-499d-cf0f-a4d651233198"
      },
      "execution_count": 36,
      "outputs": [
        {
          "output_type": "stream",
          "name": "stdout",
          "text": [
            "[   6.64970105 -172.2493574   485.49941498  314.68335483  -72.93919534\n",
            "  -80.6014393  -174.45279965   83.5733994   484.39865564   73.58483208]\n",
            "151.88221592211522\n"
          ]
        }
      ]
    },
    {
      "cell_type": "markdown",
      "source": [
        "##Yeh!! we successfully crete a function for ridge regression from scratch.."
      ],
      "metadata": {
        "id": "xLVjLtsxpz2R"
      }
    },
    {
      "cell_type": "code",
      "source": [],
      "metadata": {
        "id": "JBhLv9eDpwCD"
      },
      "execution_count": null,
      "outputs": []
    }
  ]
}