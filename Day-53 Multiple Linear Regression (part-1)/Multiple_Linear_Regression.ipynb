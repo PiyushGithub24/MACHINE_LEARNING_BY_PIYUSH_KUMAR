{
  "nbformat": 4,
  "nbformat_minor": 0,
  "metadata": {
    "colab": {
      "provenance": [],
      "authorship_tag": "ABX9TyOpvSDzD+Cis9TV8Rj6tmou",
      "include_colab_link": true
    },
    "kernelspec": {
      "name": "python3",
      "display_name": "Python 3"
    },
    "language_info": {
      "name": "python"
    }
  },
  "cells": [
    {
      "cell_type": "markdown",
      "metadata": {
        "id": "view-in-github",
        "colab_type": "text"
      },
      "source": [
        "<a href=\"https://colab.research.google.com/github/PiyushGithub24/MACHINE_LEARNING_BY_PIYUSH_KUMAR/blob/main/Multiple_Linear_Regression.ipynb\" target=\"_parent\"><img src=\"https://colab.research.google.com/assets/colab-badge.svg\" alt=\"Open In Colab\"/></a>"
      ]
    },
    {
      "cell_type": "markdown",
      "source": [
        "#Multiple Linear Regression :-"
      ],
      "metadata": {
        "id": "Txq1sCu0oNN4"
      }
    },
    {
      "cell_type": "code",
      "execution_count": 73,
      "metadata": {
        "id": "HVFzSpEaoHWZ"
      },
      "outputs": [],
      "source": [
        "from sklearn.datasets import make_regression\n",
        "import pandas as pd\n",
        "import numpy as np\n",
        "import matplotlib.pyplot as plt\n",
        "\n",
        "import plotly.express as px\n",
        "import plotly.graph_objects as go\n",
        "from sklearn.metrics import mean_squared_error,mean_absolute_error,r2_score"
      ]
    },
    {
      "cell_type": "code",
      "source": [
        "x,y=make_regression(n_samples=100,n_features=2 ,n_informative=2 ,n_targets=1,noise=50)"
      ],
      "metadata": {
        "id": "RrErLa7lozwW"
      },
      "execution_count": 74,
      "outputs": []
    },
    {
      "cell_type": "code",
      "source": [
        "x.shape ,y.shape"
      ],
      "metadata": {
        "colab": {
          "base_uri": "https://localhost:8080/"
        },
        "id": "eJnZdEUOpEkU",
        "outputId": "d2b04d39-3c03-4d8f-fb4b-c53b57d73365"
      },
      "execution_count": 75,
      "outputs": [
        {
          "output_type": "execute_result",
          "data": {
            "text/plain": [
              "((100, 2), (100,))"
            ]
          },
          "metadata": {},
          "execution_count": 75
        }
      ]
    },
    {
      "cell_type": "code",
      "source": [
        "df=pd.DataFrame({\"Feature1 \":x[:,0],\"Feature2 \":x[:,1],\"Target \":y})"
      ],
      "metadata": {
        "id": "POocdsnPpFI2"
      },
      "execution_count": 76,
      "outputs": []
    },
    {
      "cell_type": "code",
      "source": [
        "df.shape"
      ],
      "metadata": {
        "colab": {
          "base_uri": "https://localhost:8080/"
        },
        "id": "ivXGHkyUpm4D",
        "outputId": "8d80d6fc-af19-4f0a-b5f1-54f57855d8f1"
      },
      "execution_count": 77,
      "outputs": [
        {
          "output_type": "execute_result",
          "data": {
            "text/plain": [
              "(100, 3)"
            ]
          },
          "metadata": {},
          "execution_count": 77
        }
      ]
    },
    {
      "cell_type": "code",
      "source": [
        "df.sample(5)"
      ],
      "metadata": {
        "colab": {
          "base_uri": "https://localhost:8080/",
          "height": 206
        },
        "id": "KF4LhB6gpoZj",
        "outputId": "8fcfc8c1-03c9-4c0a-f196-7d43ec516e59"
      },
      "execution_count": 78,
      "outputs": [
        {
          "output_type": "execute_result",
          "data": {
            "text/plain": [
              "    Feature1   Feature2     Target \n",
              "86  -0.090963   0.762097  79.040668\n",
              "30   0.573289  -0.322036 -30.274311\n",
              "27   1.174252   0.503518  57.791985\n",
              "70  -1.307231  -1.263109  69.307861\n",
              "20  -1.080134   0.588868  36.604700"
            ],
            "text/html": [
              "\n",
              "  <div id=\"df-fa0b5f3a-6ce1-449b-926b-537a737ff2cb\" class=\"colab-df-container\">\n",
              "    <div>\n",
              "<style scoped>\n",
              "    .dataframe tbody tr th:only-of-type {\n",
              "        vertical-align: middle;\n",
              "    }\n",
              "\n",
              "    .dataframe tbody tr th {\n",
              "        vertical-align: top;\n",
              "    }\n",
              "\n",
              "    .dataframe thead th {\n",
              "        text-align: right;\n",
              "    }\n",
              "</style>\n",
              "<table border=\"1\" class=\"dataframe\">\n",
              "  <thead>\n",
              "    <tr style=\"text-align: right;\">\n",
              "      <th></th>\n",
              "      <th>Feature1</th>\n",
              "      <th>Feature2</th>\n",
              "      <th>Target</th>\n",
              "    </tr>\n",
              "  </thead>\n",
              "  <tbody>\n",
              "    <tr>\n",
              "      <th>86</th>\n",
              "      <td>-0.090963</td>\n",
              "      <td>0.762097</td>\n",
              "      <td>79.040668</td>\n",
              "    </tr>\n",
              "    <tr>\n",
              "      <th>30</th>\n",
              "      <td>0.573289</td>\n",
              "      <td>-0.322036</td>\n",
              "      <td>-30.274311</td>\n",
              "    </tr>\n",
              "    <tr>\n",
              "      <th>27</th>\n",
              "      <td>1.174252</td>\n",
              "      <td>0.503518</td>\n",
              "      <td>57.791985</td>\n",
              "    </tr>\n",
              "    <tr>\n",
              "      <th>70</th>\n",
              "      <td>-1.307231</td>\n",
              "      <td>-1.263109</td>\n",
              "      <td>69.307861</td>\n",
              "    </tr>\n",
              "    <tr>\n",
              "      <th>20</th>\n",
              "      <td>-1.080134</td>\n",
              "      <td>0.588868</td>\n",
              "      <td>36.604700</td>\n",
              "    </tr>\n",
              "  </tbody>\n",
              "</table>\n",
              "</div>\n",
              "    <div class=\"colab-df-buttons\">\n",
              "\n",
              "  <div class=\"colab-df-container\">\n",
              "    <button class=\"colab-df-convert\" onclick=\"convertToInteractive('df-fa0b5f3a-6ce1-449b-926b-537a737ff2cb')\"\n",
              "            title=\"Convert this dataframe to an interactive table.\"\n",
              "            style=\"display:none;\">\n",
              "\n",
              "  <svg xmlns=\"http://www.w3.org/2000/svg\" height=\"24px\" viewBox=\"0 -960 960 960\">\n",
              "    <path d=\"M120-120v-720h720v720H120Zm60-500h600v-160H180v160Zm220 220h160v-160H400v160Zm0 220h160v-160H400v160ZM180-400h160v-160H180v160Zm440 0h160v-160H620v160ZM180-180h160v-160H180v160Zm440 0h160v-160H620v160Z\"/>\n",
              "  </svg>\n",
              "    </button>\n",
              "\n",
              "  <style>\n",
              "    .colab-df-container {\n",
              "      display:flex;\n",
              "      gap: 12px;\n",
              "    }\n",
              "\n",
              "    .colab-df-convert {\n",
              "      background-color: #E8F0FE;\n",
              "      border: none;\n",
              "      border-radius: 50%;\n",
              "      cursor: pointer;\n",
              "      display: none;\n",
              "      fill: #1967D2;\n",
              "      height: 32px;\n",
              "      padding: 0 0 0 0;\n",
              "      width: 32px;\n",
              "    }\n",
              "\n",
              "    .colab-df-convert:hover {\n",
              "      background-color: #E2EBFA;\n",
              "      box-shadow: 0px 1px 2px rgba(60, 64, 67, 0.3), 0px 1px 3px 1px rgba(60, 64, 67, 0.15);\n",
              "      fill: #174EA6;\n",
              "    }\n",
              "\n",
              "    .colab-df-buttons div {\n",
              "      margin-bottom: 4px;\n",
              "    }\n",
              "\n",
              "    [theme=dark] .colab-df-convert {\n",
              "      background-color: #3B4455;\n",
              "      fill: #D2E3FC;\n",
              "    }\n",
              "\n",
              "    [theme=dark] .colab-df-convert:hover {\n",
              "      background-color: #434B5C;\n",
              "      box-shadow: 0px 1px 3px 1px rgba(0, 0, 0, 0.15);\n",
              "      filter: drop-shadow(0px 1px 2px rgba(0, 0, 0, 0.3));\n",
              "      fill: #FFFFFF;\n",
              "    }\n",
              "  </style>\n",
              "\n",
              "    <script>\n",
              "      const buttonEl =\n",
              "        document.querySelector('#df-fa0b5f3a-6ce1-449b-926b-537a737ff2cb button.colab-df-convert');\n",
              "      buttonEl.style.display =\n",
              "        google.colab.kernel.accessAllowed ? 'block' : 'none';\n",
              "\n",
              "      async function convertToInteractive(key) {\n",
              "        const element = document.querySelector('#df-fa0b5f3a-6ce1-449b-926b-537a737ff2cb');\n",
              "        const dataTable =\n",
              "          await google.colab.kernel.invokeFunction('convertToInteractive',\n",
              "                                                    [key], {});\n",
              "        if (!dataTable) return;\n",
              "\n",
              "        const docLinkHtml = 'Like what you see? Visit the ' +\n",
              "          '<a target=\"_blank\" href=https://colab.research.google.com/notebooks/data_table.ipynb>data table notebook</a>'\n",
              "          + ' to learn more about interactive tables.';\n",
              "        element.innerHTML = '';\n",
              "        dataTable['output_type'] = 'display_data';\n",
              "        await google.colab.output.renderOutput(dataTable, element);\n",
              "        const docLink = document.createElement('div');\n",
              "        docLink.innerHTML = docLinkHtml;\n",
              "        element.appendChild(docLink);\n",
              "      }\n",
              "    </script>\n",
              "  </div>\n",
              "\n",
              "\n",
              "<div id=\"df-caed147b-9026-468c-becc-daec28590b92\">\n",
              "  <button class=\"colab-df-quickchart\" onclick=\"quickchart('df-caed147b-9026-468c-becc-daec28590b92')\"\n",
              "            title=\"Suggest charts\"\n",
              "            style=\"display:none;\">\n",
              "\n",
              "<svg xmlns=\"http://www.w3.org/2000/svg\" height=\"24px\"viewBox=\"0 0 24 24\"\n",
              "     width=\"24px\">\n",
              "    <g>\n",
              "        <path d=\"M19 3H5c-1.1 0-2 .9-2 2v14c0 1.1.9 2 2 2h14c1.1 0 2-.9 2-2V5c0-1.1-.9-2-2-2zM9 17H7v-7h2v7zm4 0h-2V7h2v10zm4 0h-2v-4h2v4z\"/>\n",
              "    </g>\n",
              "</svg>\n",
              "  </button>\n",
              "\n",
              "<style>\n",
              "  .colab-df-quickchart {\n",
              "      --bg-color: #E8F0FE;\n",
              "      --fill-color: #1967D2;\n",
              "      --hover-bg-color: #E2EBFA;\n",
              "      --hover-fill-color: #174EA6;\n",
              "      --disabled-fill-color: #AAA;\n",
              "      --disabled-bg-color: #DDD;\n",
              "  }\n",
              "\n",
              "  [theme=dark] .colab-df-quickchart {\n",
              "      --bg-color: #3B4455;\n",
              "      --fill-color: #D2E3FC;\n",
              "      --hover-bg-color: #434B5C;\n",
              "      --hover-fill-color: #FFFFFF;\n",
              "      --disabled-bg-color: #3B4455;\n",
              "      --disabled-fill-color: #666;\n",
              "  }\n",
              "\n",
              "  .colab-df-quickchart {\n",
              "    background-color: var(--bg-color);\n",
              "    border: none;\n",
              "    border-radius: 50%;\n",
              "    cursor: pointer;\n",
              "    display: none;\n",
              "    fill: var(--fill-color);\n",
              "    height: 32px;\n",
              "    padding: 0;\n",
              "    width: 32px;\n",
              "  }\n",
              "\n",
              "  .colab-df-quickchart:hover {\n",
              "    background-color: var(--hover-bg-color);\n",
              "    box-shadow: 0 1px 2px rgba(60, 64, 67, 0.3), 0 1px 3px 1px rgba(60, 64, 67, 0.15);\n",
              "    fill: var(--button-hover-fill-color);\n",
              "  }\n",
              "\n",
              "  .colab-df-quickchart-complete:disabled,\n",
              "  .colab-df-quickchart-complete:disabled:hover {\n",
              "    background-color: var(--disabled-bg-color);\n",
              "    fill: var(--disabled-fill-color);\n",
              "    box-shadow: none;\n",
              "  }\n",
              "\n",
              "  .colab-df-spinner {\n",
              "    border: 2px solid var(--fill-color);\n",
              "    border-color: transparent;\n",
              "    border-bottom-color: var(--fill-color);\n",
              "    animation:\n",
              "      spin 1s steps(1) infinite;\n",
              "  }\n",
              "\n",
              "  @keyframes spin {\n",
              "    0% {\n",
              "      border-color: transparent;\n",
              "      border-bottom-color: var(--fill-color);\n",
              "      border-left-color: var(--fill-color);\n",
              "    }\n",
              "    20% {\n",
              "      border-color: transparent;\n",
              "      border-left-color: var(--fill-color);\n",
              "      border-top-color: var(--fill-color);\n",
              "    }\n",
              "    30% {\n",
              "      border-color: transparent;\n",
              "      border-left-color: var(--fill-color);\n",
              "      border-top-color: var(--fill-color);\n",
              "      border-right-color: var(--fill-color);\n",
              "    }\n",
              "    40% {\n",
              "      border-color: transparent;\n",
              "      border-right-color: var(--fill-color);\n",
              "      border-top-color: var(--fill-color);\n",
              "    }\n",
              "    60% {\n",
              "      border-color: transparent;\n",
              "      border-right-color: var(--fill-color);\n",
              "    }\n",
              "    80% {\n",
              "      border-color: transparent;\n",
              "      border-right-color: var(--fill-color);\n",
              "      border-bottom-color: var(--fill-color);\n",
              "    }\n",
              "    90% {\n",
              "      border-color: transparent;\n",
              "      border-bottom-color: var(--fill-color);\n",
              "    }\n",
              "  }\n",
              "</style>\n",
              "\n",
              "  <script>\n",
              "    async function quickchart(key) {\n",
              "      const quickchartButtonEl =\n",
              "        document.querySelector('#' + key + ' button');\n",
              "      quickchartButtonEl.disabled = true;  // To prevent multiple clicks.\n",
              "      quickchartButtonEl.classList.add('colab-df-spinner');\n",
              "      try {\n",
              "        const charts = await google.colab.kernel.invokeFunction(\n",
              "            'suggestCharts', [key], {});\n",
              "      } catch (error) {\n",
              "        console.error('Error during call to suggestCharts:', error);\n",
              "      }\n",
              "      quickchartButtonEl.classList.remove('colab-df-spinner');\n",
              "      quickchartButtonEl.classList.add('colab-df-quickchart-complete');\n",
              "    }\n",
              "    (() => {\n",
              "      let quickchartButtonEl =\n",
              "        document.querySelector('#df-caed147b-9026-468c-becc-daec28590b92 button');\n",
              "      quickchartButtonEl.style.display =\n",
              "        google.colab.kernel.accessAllowed ? 'block' : 'none';\n",
              "    })();\n",
              "  </script>\n",
              "</div>\n",
              "\n",
              "    </div>\n",
              "  </div>\n"
            ],
            "application/vnd.google.colaboratory.intrinsic+json": {
              "type": "dataframe",
              "summary": "{\n  \"name\": \"df\",\n  \"rows\": 5,\n  \"fields\": [\n    {\n      \"column\": \"Feature1 \",\n      \"properties\": {\n        \"dtype\": \"number\",\n        \"std\": 1.0588359508601164,\n        \"min\": -1.3072308373619848,\n        \"max\": 1.1742515008516545,\n        \"num_unique_values\": 5,\n        \"samples\": [\n          0.5732894327682144,\n          -1.0801343665276535,\n          1.1742515008516545\n        ],\n        \"semantic_type\": \"\",\n        \"description\": \"\"\n      }\n    },\n    {\n      \"column\": \"Feature2 \",\n      \"properties\": {\n        \"dtype\": \"number\",\n        \"std\": 0.8464236259836121,\n        \"min\": -1.2631090105020089,\n        \"max\": 0.7620972404275782,\n        \"num_unique_values\": 5,\n        \"samples\": [\n          -0.3220363802388115,\n          0.5888682192561725,\n          0.5035182836863503\n        ],\n        \"semantic_type\": \"\",\n        \"description\": \"\"\n      }\n    },\n    {\n      \"column\": \"Target \",\n      \"properties\": {\n        \"dtype\": \"number\",\n        \"std\": 43.64224262051739,\n        \"min\": -30.27431119596023,\n        \"max\": 79.0406676962181,\n        \"num_unique_values\": 5,\n        \"samples\": [\n          -30.27431119596023,\n          36.604700036295036,\n          57.791985013426306\n        ],\n        \"semantic_type\": \"\",\n        \"description\": \"\"\n      }\n    }\n  ]\n}"
            }
          },
          "metadata": {},
          "execution_count": 78
        }
      ]
    },
    {
      "cell_type": "code",
      "source": [
        "fig=px.scatter_3d(df,x=\"Feature1 \",y=\"Feature2 \",z=\"Target \",color=\"Target \")\n",
        "fig.show()"
      ],
      "metadata": {
        "colab": {
          "base_uri": "https://localhost:8080/",
          "height": 542
        },
        "id": "g-lCS8ioppRl",
        "outputId": "f17827ac-3622-4782-fe51-3f963b5295fa"
      },
      "execution_count": 79,
      "outputs": [
        {
          "output_type": "display_data",
          "data": {
            "text/html": [
              "<html>\n",
              "<head><meta charset=\"utf-8\" /></head>\n",
              "<body>\n",
              "    <div>            <script src=\"https://cdnjs.cloudflare.com/ajax/libs/mathjax/2.7.5/MathJax.js?config=TeX-AMS-MML_SVG\"></script><script type=\"text/javascript\">if (window.MathJax && window.MathJax.Hub && window.MathJax.Hub.Config) {window.MathJax.Hub.Config({SVG: {font: \"STIX-Web\"}});}</script>                <script type=\"text/javascript\">window.PlotlyConfig = {MathJaxConfig: 'local'};</script>\n",
              "        <script charset=\"utf-8\" src=\"https://cdn.plot.ly/plotly-2.24.1.min.js\"></script>                <div id=\"87b9ea98-a695-4fab-863e-6b997649b5db\" class=\"plotly-graph-div\" style=\"height:525px; width:100%;\"></div>            <script type=\"text/javascript\">                                    window.PLOTLYENV=window.PLOTLYENV || {};                                    if (document.getElementById(\"87b9ea98-a695-4fab-863e-6b997649b5db\")) {                    Plotly.newPlot(                        \"87b9ea98-a695-4fab-863e-6b997649b5db\",                        [{\"hovertemplate\":\"Feature1 =%{x}\\u003cbr\\u003eFeature2 =%{y}\\u003cbr\\u003eTarget =%{marker.color}\\u003cextra\\u003e\\u003c\\u002fextra\\u003e\",\"legendgroup\":\"\",\"marker\":{\"color\":[150.56954754484224,74.16024171741961,26.571907051105164,-69.90704746430383,-23.39407489916691,-40.95619323189617,60.94081083988929,-3.869425524886113,-67.90561655327787,96.72513179824956,105.02244456737569,16.45397764176893,96.83912283935106,60.4661517603977,-61.88495967914219,-64.01232263535334,-78.30996520954088,0.08162732274486473,-108.87029269904531,-93.89123160767048,36.604700036295036,-49.694293190817625,57.1660585476227,-19.19822613704329,-75.7457113656886,49.11433408962776,19.282007569386412,57.791985013426306,53.93409169073491,36.494166821696844,-30.27431119596023,28.521100324911558,-48.177157357075984,-74.53106447496296,66.13711175125611,17.459417377866657,-62.848004459023144,26.435664682588055,-36.11261352286841,-62.674667365504945,-45.41675082908876,-51.439107718277896,57.19807574972957,59.06505748472844,-28.9140563646065,-45.11155856661448,-91.07863739515815,-18.704138453044365,-38.56209613980205,-36.93849477905093,11.240507878597848,-166.27495418652555,-57.942959345991824,4.661635402060574,20.780832123089503,26.369279041870357,27.27732900798459,106.4617991268069,3.598351942921454,-53.75119752811863,-55.21883268792767,39.76304945977231,29.729042789124144,8.210397887756738,-72.63751670143705,65.93879396910718,-109.36573047567347,95.08477153440231,25.46414197075178,40.02230971788141,69.3078607889996,58.01974986132751,119.11349613429266,48.51171974755617,-48.41343689553487,-67.22248461628114,-92.39085036779812,-117.82259786178872,-100.57109689474737,14.925112763614047,-33.78008058002885,17.183268044845445,93.56474042366139,59.83136689837845,100.50333984147068,46.079007471638164,79.0406676962181,12.940724017897402,-77.12024922813137,-62.30827183627676,38.94567273833594,4.113572541260714,-49.1828483680445,-66.88815421342447,76.32933842483902,-70.2078960388015,46.54100436678034,2.1058011898799105,5.480857278671451,-17.903731810380776],\"coloraxis\":\"coloraxis\",\"symbol\":\"circle\"},\"mode\":\"markers\",\"name\":\"\",\"scene\":\"scene\",\"showlegend\":false,\"x\":[1.51666513376168,0.5942972405999327,-1.2216000264217282,0.598287841241246,-1.3503105429639577,0.9846008149460136,1.1607798049127351,-0.5368243836688354,-0.3959794813003773,-0.977168570054382,0.5240191171762317,0.8383158857872008,0.22280749943621456,0.5047470644887643,-0.9199353138441637,-1.7286801422272104,-0.2031994927853133,1.4819673471475305,-0.2490508661386207,0.5678914372215639,-1.0801343665276535,-0.9285103242932368,-0.09204618151972861,-0.6040217491995609,-0.6045448721201585,-0.7446396252096337,-0.9194438008914888,1.1742515008516545,0.1404388881606466,0.5258219828566747,0.5732894327682144,-0.6978102330068204,0.4923412359073604,-0.3484478489909526,0.36336322489581385,0.6198767259262757,-0.7195021898383045,-0.07883834838503052,0.31648833069357163,-0.8136086351761347,0.8748242345590573,-0.1916365754506506,0.1982793180660443,0.9753126127001709,-1.6011085088358932,0.8017099786687488,-1.2329627393078595,1.0848420034318986,0.3865748926520823,1.1204531477504853,-0.16889586407373255,-2.54686851197862,0.17731149319079115,0.5139426910912374,-0.4156856867178057,-1.8468365201009271,0.9233655169197124,0.6474861602445191,-0.23710309991936163,0.7971531395112125,-0.39631361721598096,0.2786320370291933,-1.0230572334708536,-0.16241756936401228,-0.42745926728524947,-0.1141775964641697,0.7130453701725793,0.37383025601165604,1.329987894054068,-1.218766075261156,-1.3072308373619848,-0.3944921349515674,1.1258988910225092,-0.6196655732353209,-0.7713243502929746,1.0533422783701256,-1.0098927176650998,-1.2467532947191353,-0.047089934786911904,1.1801702371271259,-0.8926778772617834,0.8630350989132555,0.20186392357659544,-0.5222019289714023,0.7538349229581861,0.16849121969132363,-0.09096345327365761,-0.11629022467964663,0.11523134074691768,0.3373681105055133,-0.2682986439852912,-0.9585523348377073,-0.7823483903246895,-0.7770825816017123,0.342455876308213,-0.4766156024240284,0.5816101015426712,0.5845454329761994,0.4978609878728899,0.02676485904645066],\"y\":[1.1867257639431352,-0.1492843565088219,0.7976130115875669,-1.327652447569281,0.2806130311540472,0.8571575803324666,1.102766501289379,-0.15922548693679658,-1.2273203022086034,1.1659428469146556,1.6814705624197175,-0.30649004208290076,1.2274935170079204,1.3364562528581738,-0.4397915144356844,0.25888126005885154,-0.9578501514891664,0.03500214479920969,-0.545749404703353,-2.90472152729747,0.5888682192561725,-1.037141998990566,1.814938291450483,-0.19530514521379286,-0.3129378069148205,0.9748586504261111,-0.12297844768130473,0.5035182836863503,-0.7238712786834621,0.5576922083211228,-0.3220363802388115,0.31574474165732624,-0.3986551989133133,-1.2692411414160218,1.3438123808026574,-0.5850415278585488,0.40155486871840523,1.356732591447914,-0.7686002495556621,-0.7843360882866995,0.25496636244909776,-0.6306481704877928,-0.761464717655567,1.0533260861163913,-0.11353080383289632,-0.20653493069120812,-0.5801887654890739,-1.364703848285992,-0.14399693672914693,0.2679029380676989,-0.2004776253489699,-0.27682065015807306,-0.5546269386519332,0.2065840641101436,0.18214936274433075,1.3276752836835244,-0.049769433840932034,2.6789514426720555,-0.7000888905766526,-0.710053895208933,0.35777436122379835,1.0925924264881446,0.3604023336657981,0.8486899635554871,-2.1041451235411,1.3601143441529693,-2.2789196791204986,1.1330890764115873,0.5417980509211756,0.8255072782602568,-1.2631090105020089,0.06424825508167231,0.22191094443906856,0.6533423881282886,0.2707429391733405,-1.0038181349625812,-0.43798650714739656,-1.1390116785578193,-0.6786010499127193,0.17014941639712367,-1.1651271567463226,-0.12381716155077255,1.2392370338864194,2.189329340084098,0.17459731242120965,0.25674103745872273,0.7620972404275782,1.5505480310648327,-0.8858953313944998,-1.2580936699067613,1.7330047607666528,0.5088618994755518,-0.48066564719410815,-0.028900177407975406,0.3283473357073981,0.529746474271699,0.5815208424371727,-0.38806960696527343,0.4140601948332869,-1.6602063478228732],\"z\":[150.56954754484224,74.16024171741961,26.571907051105164,-69.90704746430383,-23.39407489916691,-40.95619323189617,60.94081083988929,-3.869425524886113,-67.90561655327787,96.72513179824956,105.02244456737569,16.45397764176893,96.83912283935106,60.4661517603977,-61.88495967914219,-64.01232263535334,-78.30996520954088,0.08162732274486473,-108.87029269904531,-93.89123160767048,36.604700036295036,-49.694293190817625,57.1660585476227,-19.19822613704329,-75.7457113656886,49.11433408962776,19.282007569386412,57.791985013426306,53.93409169073491,36.494166821696844,-30.27431119596023,28.521100324911558,-48.177157357075984,-74.53106447496296,66.13711175125611,17.459417377866657,-62.848004459023144,26.435664682588055,-36.11261352286841,-62.674667365504945,-45.41675082908876,-51.439107718277896,57.19807574972957,59.06505748472844,-28.9140563646065,-45.11155856661448,-91.07863739515815,-18.704138453044365,-38.56209613980205,-36.93849477905093,11.240507878597848,-166.27495418652555,-57.942959345991824,4.661635402060574,20.780832123089503,26.369279041870357,27.27732900798459,106.4617991268069,3.598351942921454,-53.75119752811863,-55.21883268792767,39.76304945977231,29.729042789124144,8.210397887756738,-72.63751670143705,65.93879396910718,-109.36573047567347,95.08477153440231,25.46414197075178,40.02230971788141,69.3078607889996,58.01974986132751,119.11349613429266,48.51171974755617,-48.41343689553487,-67.22248461628114,-92.39085036779812,-117.82259786178872,-100.57109689474737,14.925112763614047,-33.78008058002885,17.183268044845445,93.56474042366139,59.83136689837845,100.50333984147068,46.079007471638164,79.0406676962181,12.940724017897402,-77.12024922813137,-62.30827183627676,38.94567273833594,4.113572541260714,-49.1828483680445,-66.88815421342447,76.32933842483902,-70.2078960388015,46.54100436678034,2.1058011898799105,5.480857278671451,-17.903731810380776],\"type\":\"scatter3d\"}],                        {\"template\":{\"data\":{\"histogram2dcontour\":[{\"type\":\"histogram2dcontour\",\"colorbar\":{\"outlinewidth\":0,\"ticks\":\"\"},\"colorscale\":[[0.0,\"#0d0887\"],[0.1111111111111111,\"#46039f\"],[0.2222222222222222,\"#7201a8\"],[0.3333333333333333,\"#9c179e\"],[0.4444444444444444,\"#bd3786\"],[0.5555555555555556,\"#d8576b\"],[0.6666666666666666,\"#ed7953\"],[0.7777777777777778,\"#fb9f3a\"],[0.8888888888888888,\"#fdca26\"],[1.0,\"#f0f921\"]]}],\"choropleth\":[{\"type\":\"choropleth\",\"colorbar\":{\"outlinewidth\":0,\"ticks\":\"\"}}],\"histogram2d\":[{\"type\":\"histogram2d\",\"colorbar\":{\"outlinewidth\":0,\"ticks\":\"\"},\"colorscale\":[[0.0,\"#0d0887\"],[0.1111111111111111,\"#46039f\"],[0.2222222222222222,\"#7201a8\"],[0.3333333333333333,\"#9c179e\"],[0.4444444444444444,\"#bd3786\"],[0.5555555555555556,\"#d8576b\"],[0.6666666666666666,\"#ed7953\"],[0.7777777777777778,\"#fb9f3a\"],[0.8888888888888888,\"#fdca26\"],[1.0,\"#f0f921\"]]}],\"heatmap\":[{\"type\":\"heatmap\",\"colorbar\":{\"outlinewidth\":0,\"ticks\":\"\"},\"colorscale\":[[0.0,\"#0d0887\"],[0.1111111111111111,\"#46039f\"],[0.2222222222222222,\"#7201a8\"],[0.3333333333333333,\"#9c179e\"],[0.4444444444444444,\"#bd3786\"],[0.5555555555555556,\"#d8576b\"],[0.6666666666666666,\"#ed7953\"],[0.7777777777777778,\"#fb9f3a\"],[0.8888888888888888,\"#fdca26\"],[1.0,\"#f0f921\"]]}],\"heatmapgl\":[{\"type\":\"heatmapgl\",\"colorbar\":{\"outlinewidth\":0,\"ticks\":\"\"},\"colorscale\":[[0.0,\"#0d0887\"],[0.1111111111111111,\"#46039f\"],[0.2222222222222222,\"#7201a8\"],[0.3333333333333333,\"#9c179e\"],[0.4444444444444444,\"#bd3786\"],[0.5555555555555556,\"#d8576b\"],[0.6666666666666666,\"#ed7953\"],[0.7777777777777778,\"#fb9f3a\"],[0.8888888888888888,\"#fdca26\"],[1.0,\"#f0f921\"]]}],\"contourcarpet\":[{\"type\":\"contourcarpet\",\"colorbar\":{\"outlinewidth\":0,\"ticks\":\"\"}}],\"contour\":[{\"type\":\"contour\",\"colorbar\":{\"outlinewidth\":0,\"ticks\":\"\"},\"colorscale\":[[0.0,\"#0d0887\"],[0.1111111111111111,\"#46039f\"],[0.2222222222222222,\"#7201a8\"],[0.3333333333333333,\"#9c179e\"],[0.4444444444444444,\"#bd3786\"],[0.5555555555555556,\"#d8576b\"],[0.6666666666666666,\"#ed7953\"],[0.7777777777777778,\"#fb9f3a\"],[0.8888888888888888,\"#fdca26\"],[1.0,\"#f0f921\"]]}],\"surface\":[{\"type\":\"surface\",\"colorbar\":{\"outlinewidth\":0,\"ticks\":\"\"},\"colorscale\":[[0.0,\"#0d0887\"],[0.1111111111111111,\"#46039f\"],[0.2222222222222222,\"#7201a8\"],[0.3333333333333333,\"#9c179e\"],[0.4444444444444444,\"#bd3786\"],[0.5555555555555556,\"#d8576b\"],[0.6666666666666666,\"#ed7953\"],[0.7777777777777778,\"#fb9f3a\"],[0.8888888888888888,\"#fdca26\"],[1.0,\"#f0f921\"]]}],\"mesh3d\":[{\"type\":\"mesh3d\",\"colorbar\":{\"outlinewidth\":0,\"ticks\":\"\"}}],\"scatter\":[{\"fillpattern\":{\"fillmode\":\"overlay\",\"size\":10,\"solidity\":0.2},\"type\":\"scatter\"}],\"parcoords\":[{\"type\":\"parcoords\",\"line\":{\"colorbar\":{\"outlinewidth\":0,\"ticks\":\"\"}}}],\"scatterpolargl\":[{\"type\":\"scatterpolargl\",\"marker\":{\"colorbar\":{\"outlinewidth\":0,\"ticks\":\"\"}}}],\"bar\":[{\"error_x\":{\"color\":\"#2a3f5f\"},\"error_y\":{\"color\":\"#2a3f5f\"},\"marker\":{\"line\":{\"color\":\"#E5ECF6\",\"width\":0.5},\"pattern\":{\"fillmode\":\"overlay\",\"size\":10,\"solidity\":0.2}},\"type\":\"bar\"}],\"scattergeo\":[{\"type\":\"scattergeo\",\"marker\":{\"colorbar\":{\"outlinewidth\":0,\"ticks\":\"\"}}}],\"scatterpolar\":[{\"type\":\"scatterpolar\",\"marker\":{\"colorbar\":{\"outlinewidth\":0,\"ticks\":\"\"}}}],\"histogram\":[{\"marker\":{\"pattern\":{\"fillmode\":\"overlay\",\"size\":10,\"solidity\":0.2}},\"type\":\"histogram\"}],\"scattergl\":[{\"type\":\"scattergl\",\"marker\":{\"colorbar\":{\"outlinewidth\":0,\"ticks\":\"\"}}}],\"scatter3d\":[{\"type\":\"scatter3d\",\"line\":{\"colorbar\":{\"outlinewidth\":0,\"ticks\":\"\"}},\"marker\":{\"colorbar\":{\"outlinewidth\":0,\"ticks\":\"\"}}}],\"scattermapbox\":[{\"type\":\"scattermapbox\",\"marker\":{\"colorbar\":{\"outlinewidth\":0,\"ticks\":\"\"}}}],\"scatterternary\":[{\"type\":\"scatterternary\",\"marker\":{\"colorbar\":{\"outlinewidth\":0,\"ticks\":\"\"}}}],\"scattercarpet\":[{\"type\":\"scattercarpet\",\"marker\":{\"colorbar\":{\"outlinewidth\":0,\"ticks\":\"\"}}}],\"carpet\":[{\"aaxis\":{\"endlinecolor\":\"#2a3f5f\",\"gridcolor\":\"white\",\"linecolor\":\"white\",\"minorgridcolor\":\"white\",\"startlinecolor\":\"#2a3f5f\"},\"baxis\":{\"endlinecolor\":\"#2a3f5f\",\"gridcolor\":\"white\",\"linecolor\":\"white\",\"minorgridcolor\":\"white\",\"startlinecolor\":\"#2a3f5f\"},\"type\":\"carpet\"}],\"table\":[{\"cells\":{\"fill\":{\"color\":\"#EBF0F8\"},\"line\":{\"color\":\"white\"}},\"header\":{\"fill\":{\"color\":\"#C8D4E3\"},\"line\":{\"color\":\"white\"}},\"type\":\"table\"}],\"barpolar\":[{\"marker\":{\"line\":{\"color\":\"#E5ECF6\",\"width\":0.5},\"pattern\":{\"fillmode\":\"overlay\",\"size\":10,\"solidity\":0.2}},\"type\":\"barpolar\"}],\"pie\":[{\"automargin\":true,\"type\":\"pie\"}]},\"layout\":{\"autotypenumbers\":\"strict\",\"colorway\":[\"#636efa\",\"#EF553B\",\"#00cc96\",\"#ab63fa\",\"#FFA15A\",\"#19d3f3\",\"#FF6692\",\"#B6E880\",\"#FF97FF\",\"#FECB52\"],\"font\":{\"color\":\"#2a3f5f\"},\"hovermode\":\"closest\",\"hoverlabel\":{\"align\":\"left\"},\"paper_bgcolor\":\"white\",\"plot_bgcolor\":\"#E5ECF6\",\"polar\":{\"bgcolor\":\"#E5ECF6\",\"angularaxis\":{\"gridcolor\":\"white\",\"linecolor\":\"white\",\"ticks\":\"\"},\"radialaxis\":{\"gridcolor\":\"white\",\"linecolor\":\"white\",\"ticks\":\"\"}},\"ternary\":{\"bgcolor\":\"#E5ECF6\",\"aaxis\":{\"gridcolor\":\"white\",\"linecolor\":\"white\",\"ticks\":\"\"},\"baxis\":{\"gridcolor\":\"white\",\"linecolor\":\"white\",\"ticks\":\"\"},\"caxis\":{\"gridcolor\":\"white\",\"linecolor\":\"white\",\"ticks\":\"\"}},\"coloraxis\":{\"colorbar\":{\"outlinewidth\":0,\"ticks\":\"\"}},\"colorscale\":{\"sequential\":[[0.0,\"#0d0887\"],[0.1111111111111111,\"#46039f\"],[0.2222222222222222,\"#7201a8\"],[0.3333333333333333,\"#9c179e\"],[0.4444444444444444,\"#bd3786\"],[0.5555555555555556,\"#d8576b\"],[0.6666666666666666,\"#ed7953\"],[0.7777777777777778,\"#fb9f3a\"],[0.8888888888888888,\"#fdca26\"],[1.0,\"#f0f921\"]],\"sequentialminus\":[[0.0,\"#0d0887\"],[0.1111111111111111,\"#46039f\"],[0.2222222222222222,\"#7201a8\"],[0.3333333333333333,\"#9c179e\"],[0.4444444444444444,\"#bd3786\"],[0.5555555555555556,\"#d8576b\"],[0.6666666666666666,\"#ed7953\"],[0.7777777777777778,\"#fb9f3a\"],[0.8888888888888888,\"#fdca26\"],[1.0,\"#f0f921\"]],\"diverging\":[[0,\"#8e0152\"],[0.1,\"#c51b7d\"],[0.2,\"#de77ae\"],[0.3,\"#f1b6da\"],[0.4,\"#fde0ef\"],[0.5,\"#f7f7f7\"],[0.6,\"#e6f5d0\"],[0.7,\"#b8e186\"],[0.8,\"#7fbc41\"],[0.9,\"#4d9221\"],[1,\"#276419\"]]},\"xaxis\":{\"gridcolor\":\"white\",\"linecolor\":\"white\",\"ticks\":\"\",\"title\":{\"standoff\":15},\"zerolinecolor\":\"white\",\"automargin\":true,\"zerolinewidth\":2},\"yaxis\":{\"gridcolor\":\"white\",\"linecolor\":\"white\",\"ticks\":\"\",\"title\":{\"standoff\":15},\"zerolinecolor\":\"white\",\"automargin\":true,\"zerolinewidth\":2},\"scene\":{\"xaxis\":{\"backgroundcolor\":\"#E5ECF6\",\"gridcolor\":\"white\",\"linecolor\":\"white\",\"showbackground\":true,\"ticks\":\"\",\"zerolinecolor\":\"white\",\"gridwidth\":2},\"yaxis\":{\"backgroundcolor\":\"#E5ECF6\",\"gridcolor\":\"white\",\"linecolor\":\"white\",\"showbackground\":true,\"ticks\":\"\",\"zerolinecolor\":\"white\",\"gridwidth\":2},\"zaxis\":{\"backgroundcolor\":\"#E5ECF6\",\"gridcolor\":\"white\",\"linecolor\":\"white\",\"showbackground\":true,\"ticks\":\"\",\"zerolinecolor\":\"white\",\"gridwidth\":2}},\"shapedefaults\":{\"line\":{\"color\":\"#2a3f5f\"}},\"annotationdefaults\":{\"arrowcolor\":\"#2a3f5f\",\"arrowhead\":0,\"arrowwidth\":1},\"geo\":{\"bgcolor\":\"white\",\"landcolor\":\"#E5ECF6\",\"subunitcolor\":\"white\",\"showland\":true,\"showlakes\":true,\"lakecolor\":\"white\"},\"title\":{\"x\":0.05},\"mapbox\":{\"style\":\"light\"}}},\"scene\":{\"domain\":{\"x\":[0.0,1.0],\"y\":[0.0,1.0]},\"xaxis\":{\"title\":{\"text\":\"Feature1 \"}},\"yaxis\":{\"title\":{\"text\":\"Feature2 \"}},\"zaxis\":{\"title\":{\"text\":\"Target \"}}},\"coloraxis\":{\"colorbar\":{\"title\":{\"text\":\"Target \"}},\"colorscale\":[[0.0,\"#0d0887\"],[0.1111111111111111,\"#46039f\"],[0.2222222222222222,\"#7201a8\"],[0.3333333333333333,\"#9c179e\"],[0.4444444444444444,\"#bd3786\"],[0.5555555555555556,\"#d8576b\"],[0.6666666666666666,\"#ed7953\"],[0.7777777777777778,\"#fb9f3a\"],[0.8888888888888888,\"#fdca26\"],[1.0,\"#f0f921\"]]},\"legend\":{\"tracegroupgap\":0},\"margin\":{\"t\":60}},                        {\"responsive\": true}                    ).then(function(){\n",
              "                            \n",
              "var gd = document.getElementById('87b9ea98-a695-4fab-863e-6b997649b5db');\n",
              "var x = new MutationObserver(function (mutations, observer) {{\n",
              "        var display = window.getComputedStyle(gd).display;\n",
              "        if (!display || display === 'none') {{\n",
              "            console.log([gd, 'removed!']);\n",
              "            Plotly.purge(gd);\n",
              "            observer.disconnect();\n",
              "        }}\n",
              "}});\n",
              "\n",
              "// Listen for the removal of the full notebook cells\n",
              "var notebookContainer = gd.closest('#notebook-container');\n",
              "if (notebookContainer) {{\n",
              "    x.observe(notebookContainer, {childList: true});\n",
              "}}\n",
              "\n",
              "// Listen for the clearing of the current output cell\n",
              "var outputEl = gd.closest('.output');\n",
              "if (outputEl) {{\n",
              "    x.observe(outputEl, {childList: true});\n",
              "}}\n",
              "\n",
              "                        })                };                            </script>        </div>\n",
              "</body>\n",
              "</html>"
            ]
          },
          "metadata": {}
        }
      ]
    },
    {
      "cell_type": "code",
      "source": [
        "from sklearn.model_selection import train_test_split"
      ],
      "metadata": {
        "id": "0dp8hSzZrICp"
      },
      "execution_count": 80,
      "outputs": []
    },
    {
      "cell_type": "code",
      "source": [
        "x_train,x_test,y_train,y_test=train_test_split(x,y,test_size=0.2,random_state=2)"
      ],
      "metadata": {
        "id": "YiFRR_LUrNM8"
      },
      "execution_count": 81,
      "outputs": []
    },
    {
      "cell_type": "code",
      "source": [
        "x_train.shape ,x_test.shape"
      ],
      "metadata": {
        "colab": {
          "base_uri": "https://localhost:8080/"
        },
        "id": "IQga1EvNr_w8",
        "outputId": "300d3bef-a92b-4238-b37f-ec00af2fa769"
      },
      "execution_count": 82,
      "outputs": [
        {
          "output_type": "execute_result",
          "data": {
            "text/plain": [
              "((80, 2), (20, 2))"
            ]
          },
          "metadata": {},
          "execution_count": 82
        }
      ]
    },
    {
      "cell_type": "code",
      "source": [
        "y_train.shape ,y_test.shape"
      ],
      "metadata": {
        "colab": {
          "base_uri": "https://localhost:8080/"
        },
        "id": "rhgpoPHetsPw",
        "outputId": "ef5299ca-dc83-498e-ddd3-11e8d4baeff5"
      },
      "execution_count": 83,
      "outputs": [
        {
          "output_type": "execute_result",
          "data": {
            "text/plain": [
              "((80,), (20,))"
            ]
          },
          "metadata": {},
          "execution_count": 83
        }
      ]
    },
    {
      "cell_type": "code",
      "source": [
        "from sklearn.linear_model import LinearRegression\n",
        "lr=LinearRegression()"
      ],
      "metadata": {
        "id": "kWJMm--QrN9R"
      },
      "execution_count": 84,
      "outputs": []
    },
    {
      "cell_type": "code",
      "source": [
        "lr.fit(x_train,y_train)"
      ],
      "metadata": {
        "colab": {
          "base_uri": "https://localhost:8080/",
          "height": 74
        },
        "id": "Emn3HB1hrXR4",
        "outputId": "23796c55-8946-447a-8112-02b0e21aa261"
      },
      "execution_count": 85,
      "outputs": [
        {
          "output_type": "execute_result",
          "data": {
            "text/plain": [
              "LinearRegression()"
            ],
            "text/html": [
              "<style>#sk-container-id-6 {color: black;background-color: white;}#sk-container-id-6 pre{padding: 0;}#sk-container-id-6 div.sk-toggleable {background-color: white;}#sk-container-id-6 label.sk-toggleable__label {cursor: pointer;display: block;width: 100%;margin-bottom: 0;padding: 0.3em;box-sizing: border-box;text-align: center;}#sk-container-id-6 label.sk-toggleable__label-arrow:before {content: \"▸\";float: left;margin-right: 0.25em;color: #696969;}#sk-container-id-6 label.sk-toggleable__label-arrow:hover:before {color: black;}#sk-container-id-6 div.sk-estimator:hover label.sk-toggleable__label-arrow:before {color: black;}#sk-container-id-6 div.sk-toggleable__content {max-height: 0;max-width: 0;overflow: hidden;text-align: left;background-color: #f0f8ff;}#sk-container-id-6 div.sk-toggleable__content pre {margin: 0.2em;color: black;border-radius: 0.25em;background-color: #f0f8ff;}#sk-container-id-6 input.sk-toggleable__control:checked~div.sk-toggleable__content {max-height: 200px;max-width: 100%;overflow: auto;}#sk-container-id-6 input.sk-toggleable__control:checked~label.sk-toggleable__label-arrow:before {content: \"▾\";}#sk-container-id-6 div.sk-estimator input.sk-toggleable__control:checked~label.sk-toggleable__label {background-color: #d4ebff;}#sk-container-id-6 div.sk-label input.sk-toggleable__control:checked~label.sk-toggleable__label {background-color: #d4ebff;}#sk-container-id-6 input.sk-hidden--visually {border: 0;clip: rect(1px 1px 1px 1px);clip: rect(1px, 1px, 1px, 1px);height: 1px;margin: -1px;overflow: hidden;padding: 0;position: absolute;width: 1px;}#sk-container-id-6 div.sk-estimator {font-family: monospace;background-color: #f0f8ff;border: 1px dotted black;border-radius: 0.25em;box-sizing: border-box;margin-bottom: 0.5em;}#sk-container-id-6 div.sk-estimator:hover {background-color: #d4ebff;}#sk-container-id-6 div.sk-parallel-item::after {content: \"\";width: 100%;border-bottom: 1px solid gray;flex-grow: 1;}#sk-container-id-6 div.sk-label:hover label.sk-toggleable__label {background-color: #d4ebff;}#sk-container-id-6 div.sk-serial::before {content: \"\";position: absolute;border-left: 1px solid gray;box-sizing: border-box;top: 0;bottom: 0;left: 50%;z-index: 0;}#sk-container-id-6 div.sk-serial {display: flex;flex-direction: column;align-items: center;background-color: white;padding-right: 0.2em;padding-left: 0.2em;position: relative;}#sk-container-id-6 div.sk-item {position: relative;z-index: 1;}#sk-container-id-6 div.sk-parallel {display: flex;align-items: stretch;justify-content: center;background-color: white;position: relative;}#sk-container-id-6 div.sk-item::before, #sk-container-id-6 div.sk-parallel-item::before {content: \"\";position: absolute;border-left: 1px solid gray;box-sizing: border-box;top: 0;bottom: 0;left: 50%;z-index: -1;}#sk-container-id-6 div.sk-parallel-item {display: flex;flex-direction: column;z-index: 1;position: relative;background-color: white;}#sk-container-id-6 div.sk-parallel-item:first-child::after {align-self: flex-end;width: 50%;}#sk-container-id-6 div.sk-parallel-item:last-child::after {align-self: flex-start;width: 50%;}#sk-container-id-6 div.sk-parallel-item:only-child::after {width: 0;}#sk-container-id-6 div.sk-dashed-wrapped {border: 1px dashed gray;margin: 0 0.4em 0.5em 0.4em;box-sizing: border-box;padding-bottom: 0.4em;background-color: white;}#sk-container-id-6 div.sk-label label {font-family: monospace;font-weight: bold;display: inline-block;line-height: 1.2em;}#sk-container-id-6 div.sk-label-container {text-align: center;}#sk-container-id-6 div.sk-container {/* jupyter's `normalize.less` sets `[hidden] { display: none; }` but bootstrap.min.css set `[hidden] { display: none !important; }` so we also need the `!important` here to be able to override the default hidden behavior on the sphinx rendered scikit-learn.org. See: https://github.com/scikit-learn/scikit-learn/issues/21755 */display: inline-block !important;position: relative;}#sk-container-id-6 div.sk-text-repr-fallback {display: none;}</style><div id=\"sk-container-id-6\" class=\"sk-top-container\"><div class=\"sk-text-repr-fallback\"><pre>LinearRegression()</pre><b>In a Jupyter environment, please rerun this cell to show the HTML representation or trust the notebook. <br />On GitHub, the HTML representation is unable to render, please try loading this page with nbviewer.org.</b></div><div class=\"sk-container\" hidden><div class=\"sk-item\"><div class=\"sk-estimator sk-toggleable\"><input class=\"sk-toggleable__control sk-hidden--visually\" id=\"sk-estimator-id-6\" type=\"checkbox\" checked><label for=\"sk-estimator-id-6\" class=\"sk-toggleable__label sk-toggleable__label-arrow\">LinearRegression</label><div class=\"sk-toggleable__content\"><pre>LinearRegression()</pre></div></div></div></div></div>"
            ]
          },
          "metadata": {},
          "execution_count": 85
        }
      ]
    },
    {
      "cell_type": "code",
      "source": [
        "y_pred=lr.predict(x_test)"
      ],
      "metadata": {
        "id": "aq4lhkX5rbPb"
      },
      "execution_count": 86,
      "outputs": []
    },
    {
      "cell_type": "code",
      "source": [
        "y_test,y_pred"
      ],
      "metadata": {
        "colab": {
          "base_uri": "https://localhost:8080/"
        },
        "id": "mf2NEhD0sZ5T",
        "outputId": "25a6bfe1-21af-4688-88fc-f93891562efa"
      },
      "execution_count": 87,
      "outputs": [
        {
          "output_type": "execute_result",
          "data": {
            "text/plain": [
              "(array([ 59.8313669 , -30.2743112 ,  27.27732901, -75.74571137,\n",
              "        -78.30996521, -19.19822614,  26.57190705,  57.79198501,\n",
              "         53.93409169,  60.46615176, -17.90373181, -49.18284837,\n",
              "        -92.39085037, -61.88495968, 150.56954754, -49.69429319,\n",
              "        -69.90704746,  36.49416682,  39.76304946,  14.92511276]),\n",
              " array([ 79.54608132,  -6.28900156,  11.46723796, -27.13603746,\n",
              "        -47.01489382, -22.18120736,   8.43075033,  39.25006261,\n",
              "        -30.98435993,  62.20035568, -72.39776038, -37.39226331,\n",
              "        -39.69929719, -38.15376919,  74.14456604, -63.42157176,\n",
              "        -48.11558519,  29.84015259,  47.87251517,  25.34156431]))"
            ]
          },
          "metadata": {},
          "execution_count": 87
        }
      ]
    },
    {
      "cell_type": "code",
      "source": [
        "print(\"MSE : \",mean_squared_error(y_test,y_pred))\n",
        "print(\"MAE : \",mean_absolute_error(y_test,y_pred))\n",
        "print(\"R2 : \",r2_score(y_test,y_pred))"
      ],
      "metadata": {
        "colab": {
          "base_uri": "https://localhost:8080/"
        },
        "id": "cVI26GRDrfit",
        "outputId": "d1e4502a-3c5f-4338-e0a7-ece5c9f9e0b1"
      },
      "execution_count": 88,
      "outputs": [
        {
          "output_type": "stream",
          "name": "stdout",
          "text": [
            "MSE :  1281.1485630977438\n",
            "MAE :  27.278229371218185\n",
            "R2 :  0.6643761691731139\n"
          ]
        }
      ]
    },
    {
      "cell_type": "code",
      "source": [
        "#this code is just for visualization :-\n",
        "x = np.linspace(-5, 5, 10)\n",
        "y = np.linspace(-5, 5, 10)\n",
        "xGrid, yGrid = np.meshgrid(y, x)\n",
        "\n",
        "final = np.vstack((xGrid.ravel().reshape(1,100),yGrid.ravel().reshape(1,100))).T\n",
        "z_final = lr.predict(final).reshape(10,10)\n",
        "\n",
        "z = z_final\n"
      ],
      "metadata": {
        "id": "0IK25WGMrpCj"
      },
      "execution_count": 89,
      "outputs": []
    },
    {
      "cell_type": "code",
      "source": [
        "fig=px.scatter_3d(df,x=\"Feature1 \",y=\"Feature2 \",z=\"Target \")\n",
        "\n",
        "fig.add_trace(go.Surface(x = x, y = y, z =z ))\n",
        "\n",
        "fig.show()"
      ],
      "metadata": {
        "colab": {
          "base_uri": "https://localhost:8080/",
          "height": 542
        },
        "id": "MtN4fxpqu0zJ",
        "outputId": "492f289e-a899-4b7b-9516-c162c7902cad"
      },
      "execution_count": 90,
      "outputs": [
        {
          "output_type": "display_data",
          "data": {
            "text/html": [
              "<html>\n",
              "<head><meta charset=\"utf-8\" /></head>\n",
              "<body>\n",
              "    <div>            <script src=\"https://cdnjs.cloudflare.com/ajax/libs/mathjax/2.7.5/MathJax.js?config=TeX-AMS-MML_SVG\"></script><script type=\"text/javascript\">if (window.MathJax && window.MathJax.Hub && window.MathJax.Hub.Config) {window.MathJax.Hub.Config({SVG: {font: \"STIX-Web\"}});}</script>                <script type=\"text/javascript\">window.PlotlyConfig = {MathJaxConfig: 'local'};</script>\n",
              "        <script charset=\"utf-8\" src=\"https://cdn.plot.ly/plotly-2.24.1.min.js\"></script>                <div id=\"54c80178-d652-466f-93f5-f98b9d957f9a\" class=\"plotly-graph-div\" style=\"height:525px; width:100%;\"></div>            <script type=\"text/javascript\">                                    window.PLOTLYENV=window.PLOTLYENV || {};                                    if (document.getElementById(\"54c80178-d652-466f-93f5-f98b9d957f9a\")) {                    Plotly.newPlot(                        \"54c80178-d652-466f-93f5-f98b9d957f9a\",                        [{\"hovertemplate\":\"Feature1 =%{x}\\u003cbr\\u003eFeature2 =%{y}\\u003cbr\\u003eTarget =%{z}\\u003cextra\\u003e\\u003c\\u002fextra\\u003e\",\"legendgroup\":\"\",\"marker\":{\"color\":\"#636efa\",\"symbol\":\"circle\"},\"mode\":\"markers\",\"name\":\"\",\"scene\":\"scene\",\"showlegend\":false,\"x\":[1.51666513376168,0.5942972405999327,-1.2216000264217282,0.598287841241246,-1.3503105429639577,0.9846008149460136,1.1607798049127351,-0.5368243836688354,-0.3959794813003773,-0.977168570054382,0.5240191171762317,0.8383158857872008,0.22280749943621456,0.5047470644887643,-0.9199353138441637,-1.7286801422272104,-0.2031994927853133,1.4819673471475305,-0.2490508661386207,0.5678914372215639,-1.0801343665276535,-0.9285103242932368,-0.09204618151972861,-0.6040217491995609,-0.6045448721201585,-0.7446396252096337,-0.9194438008914888,1.1742515008516545,0.1404388881606466,0.5258219828566747,0.5732894327682144,-0.6978102330068204,0.4923412359073604,-0.3484478489909526,0.36336322489581385,0.6198767259262757,-0.7195021898383045,-0.07883834838503052,0.31648833069357163,-0.8136086351761347,0.8748242345590573,-0.1916365754506506,0.1982793180660443,0.9753126127001709,-1.6011085088358932,0.8017099786687488,-1.2329627393078595,1.0848420034318986,0.3865748926520823,1.1204531477504853,-0.16889586407373255,-2.54686851197862,0.17731149319079115,0.5139426910912374,-0.4156856867178057,-1.8468365201009271,0.9233655169197124,0.6474861602445191,-0.23710309991936163,0.7971531395112125,-0.39631361721598096,0.2786320370291933,-1.0230572334708536,-0.16241756936401228,-0.42745926728524947,-0.1141775964641697,0.7130453701725793,0.37383025601165604,1.329987894054068,-1.218766075261156,-1.3072308373619848,-0.3944921349515674,1.1258988910225092,-0.6196655732353209,-0.7713243502929746,1.0533422783701256,-1.0098927176650998,-1.2467532947191353,-0.047089934786911904,1.1801702371271259,-0.8926778772617834,0.8630350989132555,0.20186392357659544,-0.5222019289714023,0.7538349229581861,0.16849121969132363,-0.09096345327365761,-0.11629022467964663,0.11523134074691768,0.3373681105055133,-0.2682986439852912,-0.9585523348377073,-0.7823483903246895,-0.7770825816017123,0.342455876308213,-0.4766156024240284,0.5816101015426712,0.5845454329761994,0.4978609878728899,0.02676485904645066],\"y\":[1.1867257639431352,-0.1492843565088219,0.7976130115875669,-1.327652447569281,0.2806130311540472,0.8571575803324666,1.102766501289379,-0.15922548693679658,-1.2273203022086034,1.1659428469146556,1.6814705624197175,-0.30649004208290076,1.2274935170079204,1.3364562528581738,-0.4397915144356844,0.25888126005885154,-0.9578501514891664,0.03500214479920969,-0.545749404703353,-2.90472152729747,0.5888682192561725,-1.037141998990566,1.814938291450483,-0.19530514521379286,-0.3129378069148205,0.9748586504261111,-0.12297844768130473,0.5035182836863503,-0.7238712786834621,0.5576922083211228,-0.3220363802388115,0.31574474165732624,-0.3986551989133133,-1.2692411414160218,1.3438123808026574,-0.5850415278585488,0.40155486871840523,1.356732591447914,-0.7686002495556621,-0.7843360882866995,0.25496636244909776,-0.6306481704877928,-0.761464717655567,1.0533260861163913,-0.11353080383289632,-0.20653493069120812,-0.5801887654890739,-1.364703848285992,-0.14399693672914693,0.2679029380676989,-0.2004776253489699,-0.27682065015807306,-0.5546269386519332,0.2065840641101436,0.18214936274433075,1.3276752836835244,-0.049769433840932034,2.6789514426720555,-0.7000888905766526,-0.710053895208933,0.35777436122379835,1.0925924264881446,0.3604023336657981,0.8486899635554871,-2.1041451235411,1.3601143441529693,-2.2789196791204986,1.1330890764115873,0.5417980509211756,0.8255072782602568,-1.2631090105020089,0.06424825508167231,0.22191094443906856,0.6533423881282886,0.2707429391733405,-1.0038181349625812,-0.43798650714739656,-1.1390116785578193,-0.6786010499127193,0.17014941639712367,-1.1651271567463226,-0.12381716155077255,1.2392370338864194,2.189329340084098,0.17459731242120965,0.25674103745872273,0.7620972404275782,1.5505480310648327,-0.8858953313944998,-1.2580936699067613,1.7330047607666528,0.5088618994755518,-0.48066564719410815,-0.028900177407975406,0.3283473357073981,0.529746474271699,0.5815208424371727,-0.38806960696527343,0.4140601948332869,-1.6602063478228732],\"z\":[150.56954754484224,74.16024171741961,26.571907051105164,-69.90704746430383,-23.39407489916691,-40.95619323189617,60.94081083988929,-3.869425524886113,-67.90561655327787,96.72513179824956,105.02244456737569,16.45397764176893,96.83912283935106,60.4661517603977,-61.88495967914219,-64.01232263535334,-78.30996520954088,0.08162732274486473,-108.87029269904531,-93.89123160767048,36.604700036295036,-49.694293190817625,57.1660585476227,-19.19822613704329,-75.7457113656886,49.11433408962776,19.282007569386412,57.791985013426306,53.93409169073491,36.494166821696844,-30.27431119596023,28.521100324911558,-48.177157357075984,-74.53106447496296,66.13711175125611,17.459417377866657,-62.848004459023144,26.435664682588055,-36.11261352286841,-62.674667365504945,-45.41675082908876,-51.439107718277896,57.19807574972957,59.06505748472844,-28.9140563646065,-45.11155856661448,-91.07863739515815,-18.704138453044365,-38.56209613980205,-36.93849477905093,11.240507878597848,-166.27495418652555,-57.942959345991824,4.661635402060574,20.780832123089503,26.369279041870357,27.27732900798459,106.4617991268069,3.598351942921454,-53.75119752811863,-55.21883268792767,39.76304945977231,29.729042789124144,8.210397887756738,-72.63751670143705,65.93879396910718,-109.36573047567347,95.08477153440231,25.46414197075178,40.02230971788141,69.3078607889996,58.01974986132751,119.11349613429266,48.51171974755617,-48.41343689553487,-67.22248461628114,-92.39085036779812,-117.82259786178872,-100.57109689474737,14.925112763614047,-33.78008058002885,17.183268044845445,93.56474042366139,59.83136689837845,100.50333984147068,46.079007471638164,79.0406676962181,12.940724017897402,-77.12024922813137,-62.30827183627676,38.94567273833594,4.113572541260714,-49.1828483680445,-66.88815421342447,76.32933842483902,-70.2078960388015,46.54100436678034,2.1058011898799105,5.480857278671451,-17.903731810380776],\"type\":\"scatter3d\"},{\"x\":[-5.0,-3.888888888888889,-2.7777777777777777,-1.6666666666666665,-0.5555555555555554,0.5555555555555554,1.666666666666667,2.7777777777777786,3.8888888888888893,5.0],\"y\":[-5.0,-3.888888888888889,-2.7777777777777777,-1.6666666666666665,-0.5555555555555554,0.5555555555555554,1.666666666666667,2.7777777777777786,3.8888888888888893,5.0],\"z\":[[-303.40974605267917,-283.38283033277963,-263.3559146128801,-243.32899889298062,-223.3020831730811,-203.2751674531816,-183.24825173328207,-163.22133601338254,-143.19442029348306,-123.16750457358353],[-256.69746255603707,-236.67054683613753,-216.64363111623803,-196.61671539633852,-176.589799676439,-156.5628839565395,-136.53596823663997,-116.50905251674044,-96.48213679684093,-76.45522107694143],[-209.98517905939494,-189.95826333949543,-169.9313476195959,-149.9044318996964,-129.87751617979688,-109.85060045989736,-89.82368473999784,-69.79676902009832,-49.769853300198825,-29.742937580299316],[-163.27289556275284,-143.24597984285333,-123.2190641229538,-103.19214840305428,-83.16523268315477,-63.13831696325527,-43.11140124335575,-23.084485523456227,-3.0575698035567216,16.969345916342785],[-116.56061206611072,-96.5336963462112,-76.5067806263117,-56.479864906412196,-36.452949186512676,-16.42603346661317,3.6008822532863496,23.62779797318587,43.65471369308538,63.68162941298488],[-69.84832856946865,-49.821412849569136,-29.794497129669622,-9.76758140977011,10.259334310129404,30.286250030028906,50.31316574992842,70.34008146982795,90.36699718972746,110.39391290962696],[-23.136045072826523,-3.1091293529270034,16.917786366972503,36.94470208687201,56.971617806771526,76.99853352667104,97.02544924657056,117.05236496647008,137.07928068636957,157.10619640626908],[23.576238423815592,43.60315414371511,63.630069863614615,83.65698558351413,103.68390130341365,123.71081702331315,143.73773274321266,163.76464846311217,183.7915641830117,203.81847990291118],[70.28852192045767,90.31543764035719,110.3423533602567,130.3692690801562,150.39618480005572,170.4231005199552,190.45001623985473,210.47693195975427,230.50384767965375,250.53076339955328],[117.00080541709977,137.02772113699928,157.05463685689878,177.0815525767983,197.10846829669782,217.1353840165973,237.16229973649683,257.18921545639637,277.21613117629585,297.2430468961954]],\"type\":\"surface\"}],                        {\"template\":{\"data\":{\"histogram2dcontour\":[{\"type\":\"histogram2dcontour\",\"colorbar\":{\"outlinewidth\":0,\"ticks\":\"\"},\"colorscale\":[[0.0,\"#0d0887\"],[0.1111111111111111,\"#46039f\"],[0.2222222222222222,\"#7201a8\"],[0.3333333333333333,\"#9c179e\"],[0.4444444444444444,\"#bd3786\"],[0.5555555555555556,\"#d8576b\"],[0.6666666666666666,\"#ed7953\"],[0.7777777777777778,\"#fb9f3a\"],[0.8888888888888888,\"#fdca26\"],[1.0,\"#f0f921\"]]}],\"choropleth\":[{\"type\":\"choropleth\",\"colorbar\":{\"outlinewidth\":0,\"ticks\":\"\"}}],\"histogram2d\":[{\"type\":\"histogram2d\",\"colorbar\":{\"outlinewidth\":0,\"ticks\":\"\"},\"colorscale\":[[0.0,\"#0d0887\"],[0.1111111111111111,\"#46039f\"],[0.2222222222222222,\"#7201a8\"],[0.3333333333333333,\"#9c179e\"],[0.4444444444444444,\"#bd3786\"],[0.5555555555555556,\"#d8576b\"],[0.6666666666666666,\"#ed7953\"],[0.7777777777777778,\"#fb9f3a\"],[0.8888888888888888,\"#fdca26\"],[1.0,\"#f0f921\"]]}],\"heatmap\":[{\"type\":\"heatmap\",\"colorbar\":{\"outlinewidth\":0,\"ticks\":\"\"},\"colorscale\":[[0.0,\"#0d0887\"],[0.1111111111111111,\"#46039f\"],[0.2222222222222222,\"#7201a8\"],[0.3333333333333333,\"#9c179e\"],[0.4444444444444444,\"#bd3786\"],[0.5555555555555556,\"#d8576b\"],[0.6666666666666666,\"#ed7953\"],[0.7777777777777778,\"#fb9f3a\"],[0.8888888888888888,\"#fdca26\"],[1.0,\"#f0f921\"]]}],\"heatmapgl\":[{\"type\":\"heatmapgl\",\"colorbar\":{\"outlinewidth\":0,\"ticks\":\"\"},\"colorscale\":[[0.0,\"#0d0887\"],[0.1111111111111111,\"#46039f\"],[0.2222222222222222,\"#7201a8\"],[0.3333333333333333,\"#9c179e\"],[0.4444444444444444,\"#bd3786\"],[0.5555555555555556,\"#d8576b\"],[0.6666666666666666,\"#ed7953\"],[0.7777777777777778,\"#fb9f3a\"],[0.8888888888888888,\"#fdca26\"],[1.0,\"#f0f921\"]]}],\"contourcarpet\":[{\"type\":\"contourcarpet\",\"colorbar\":{\"outlinewidth\":0,\"ticks\":\"\"}}],\"contour\":[{\"type\":\"contour\",\"colorbar\":{\"outlinewidth\":0,\"ticks\":\"\"},\"colorscale\":[[0.0,\"#0d0887\"],[0.1111111111111111,\"#46039f\"],[0.2222222222222222,\"#7201a8\"],[0.3333333333333333,\"#9c179e\"],[0.4444444444444444,\"#bd3786\"],[0.5555555555555556,\"#d8576b\"],[0.6666666666666666,\"#ed7953\"],[0.7777777777777778,\"#fb9f3a\"],[0.8888888888888888,\"#fdca26\"],[1.0,\"#f0f921\"]]}],\"surface\":[{\"type\":\"surface\",\"colorbar\":{\"outlinewidth\":0,\"ticks\":\"\"},\"colorscale\":[[0.0,\"#0d0887\"],[0.1111111111111111,\"#46039f\"],[0.2222222222222222,\"#7201a8\"],[0.3333333333333333,\"#9c179e\"],[0.4444444444444444,\"#bd3786\"],[0.5555555555555556,\"#d8576b\"],[0.6666666666666666,\"#ed7953\"],[0.7777777777777778,\"#fb9f3a\"],[0.8888888888888888,\"#fdca26\"],[1.0,\"#f0f921\"]]}],\"mesh3d\":[{\"type\":\"mesh3d\",\"colorbar\":{\"outlinewidth\":0,\"ticks\":\"\"}}],\"scatter\":[{\"fillpattern\":{\"fillmode\":\"overlay\",\"size\":10,\"solidity\":0.2},\"type\":\"scatter\"}],\"parcoords\":[{\"type\":\"parcoords\",\"line\":{\"colorbar\":{\"outlinewidth\":0,\"ticks\":\"\"}}}],\"scatterpolargl\":[{\"type\":\"scatterpolargl\",\"marker\":{\"colorbar\":{\"outlinewidth\":0,\"ticks\":\"\"}}}],\"bar\":[{\"error_x\":{\"color\":\"#2a3f5f\"},\"error_y\":{\"color\":\"#2a3f5f\"},\"marker\":{\"line\":{\"color\":\"#E5ECF6\",\"width\":0.5},\"pattern\":{\"fillmode\":\"overlay\",\"size\":10,\"solidity\":0.2}},\"type\":\"bar\"}],\"scattergeo\":[{\"type\":\"scattergeo\",\"marker\":{\"colorbar\":{\"outlinewidth\":0,\"ticks\":\"\"}}}],\"scatterpolar\":[{\"type\":\"scatterpolar\",\"marker\":{\"colorbar\":{\"outlinewidth\":0,\"ticks\":\"\"}}}],\"histogram\":[{\"marker\":{\"pattern\":{\"fillmode\":\"overlay\",\"size\":10,\"solidity\":0.2}},\"type\":\"histogram\"}],\"scattergl\":[{\"type\":\"scattergl\",\"marker\":{\"colorbar\":{\"outlinewidth\":0,\"ticks\":\"\"}}}],\"scatter3d\":[{\"type\":\"scatter3d\",\"line\":{\"colorbar\":{\"outlinewidth\":0,\"ticks\":\"\"}},\"marker\":{\"colorbar\":{\"outlinewidth\":0,\"ticks\":\"\"}}}],\"scattermapbox\":[{\"type\":\"scattermapbox\",\"marker\":{\"colorbar\":{\"outlinewidth\":0,\"ticks\":\"\"}}}],\"scatterternary\":[{\"type\":\"scatterternary\",\"marker\":{\"colorbar\":{\"outlinewidth\":0,\"ticks\":\"\"}}}],\"scattercarpet\":[{\"type\":\"scattercarpet\",\"marker\":{\"colorbar\":{\"outlinewidth\":0,\"ticks\":\"\"}}}],\"carpet\":[{\"aaxis\":{\"endlinecolor\":\"#2a3f5f\",\"gridcolor\":\"white\",\"linecolor\":\"white\",\"minorgridcolor\":\"white\",\"startlinecolor\":\"#2a3f5f\"},\"baxis\":{\"endlinecolor\":\"#2a3f5f\",\"gridcolor\":\"white\",\"linecolor\":\"white\",\"minorgridcolor\":\"white\",\"startlinecolor\":\"#2a3f5f\"},\"type\":\"carpet\"}],\"table\":[{\"cells\":{\"fill\":{\"color\":\"#EBF0F8\"},\"line\":{\"color\":\"white\"}},\"header\":{\"fill\":{\"color\":\"#C8D4E3\"},\"line\":{\"color\":\"white\"}},\"type\":\"table\"}],\"barpolar\":[{\"marker\":{\"line\":{\"color\":\"#E5ECF6\",\"width\":0.5},\"pattern\":{\"fillmode\":\"overlay\",\"size\":10,\"solidity\":0.2}},\"type\":\"barpolar\"}],\"pie\":[{\"automargin\":true,\"type\":\"pie\"}]},\"layout\":{\"autotypenumbers\":\"strict\",\"colorway\":[\"#636efa\",\"#EF553B\",\"#00cc96\",\"#ab63fa\",\"#FFA15A\",\"#19d3f3\",\"#FF6692\",\"#B6E880\",\"#FF97FF\",\"#FECB52\"],\"font\":{\"color\":\"#2a3f5f\"},\"hovermode\":\"closest\",\"hoverlabel\":{\"align\":\"left\"},\"paper_bgcolor\":\"white\",\"plot_bgcolor\":\"#E5ECF6\",\"polar\":{\"bgcolor\":\"#E5ECF6\",\"angularaxis\":{\"gridcolor\":\"white\",\"linecolor\":\"white\",\"ticks\":\"\"},\"radialaxis\":{\"gridcolor\":\"white\",\"linecolor\":\"white\",\"ticks\":\"\"}},\"ternary\":{\"bgcolor\":\"#E5ECF6\",\"aaxis\":{\"gridcolor\":\"white\",\"linecolor\":\"white\",\"ticks\":\"\"},\"baxis\":{\"gridcolor\":\"white\",\"linecolor\":\"white\",\"ticks\":\"\"},\"caxis\":{\"gridcolor\":\"white\",\"linecolor\":\"white\",\"ticks\":\"\"}},\"coloraxis\":{\"colorbar\":{\"outlinewidth\":0,\"ticks\":\"\"}},\"colorscale\":{\"sequential\":[[0.0,\"#0d0887\"],[0.1111111111111111,\"#46039f\"],[0.2222222222222222,\"#7201a8\"],[0.3333333333333333,\"#9c179e\"],[0.4444444444444444,\"#bd3786\"],[0.5555555555555556,\"#d8576b\"],[0.6666666666666666,\"#ed7953\"],[0.7777777777777778,\"#fb9f3a\"],[0.8888888888888888,\"#fdca26\"],[1.0,\"#f0f921\"]],\"sequentialminus\":[[0.0,\"#0d0887\"],[0.1111111111111111,\"#46039f\"],[0.2222222222222222,\"#7201a8\"],[0.3333333333333333,\"#9c179e\"],[0.4444444444444444,\"#bd3786\"],[0.5555555555555556,\"#d8576b\"],[0.6666666666666666,\"#ed7953\"],[0.7777777777777778,\"#fb9f3a\"],[0.8888888888888888,\"#fdca26\"],[1.0,\"#f0f921\"]],\"diverging\":[[0,\"#8e0152\"],[0.1,\"#c51b7d\"],[0.2,\"#de77ae\"],[0.3,\"#f1b6da\"],[0.4,\"#fde0ef\"],[0.5,\"#f7f7f7\"],[0.6,\"#e6f5d0\"],[0.7,\"#b8e186\"],[0.8,\"#7fbc41\"],[0.9,\"#4d9221\"],[1,\"#276419\"]]},\"xaxis\":{\"gridcolor\":\"white\",\"linecolor\":\"white\",\"ticks\":\"\",\"title\":{\"standoff\":15},\"zerolinecolor\":\"white\",\"automargin\":true,\"zerolinewidth\":2},\"yaxis\":{\"gridcolor\":\"white\",\"linecolor\":\"white\",\"ticks\":\"\",\"title\":{\"standoff\":15},\"zerolinecolor\":\"white\",\"automargin\":true,\"zerolinewidth\":2},\"scene\":{\"xaxis\":{\"backgroundcolor\":\"#E5ECF6\",\"gridcolor\":\"white\",\"linecolor\":\"white\",\"showbackground\":true,\"ticks\":\"\",\"zerolinecolor\":\"white\",\"gridwidth\":2},\"yaxis\":{\"backgroundcolor\":\"#E5ECF6\",\"gridcolor\":\"white\",\"linecolor\":\"white\",\"showbackground\":true,\"ticks\":\"\",\"zerolinecolor\":\"white\",\"gridwidth\":2},\"zaxis\":{\"backgroundcolor\":\"#E5ECF6\",\"gridcolor\":\"white\",\"linecolor\":\"white\",\"showbackground\":true,\"ticks\":\"\",\"zerolinecolor\":\"white\",\"gridwidth\":2}},\"shapedefaults\":{\"line\":{\"color\":\"#2a3f5f\"}},\"annotationdefaults\":{\"arrowcolor\":\"#2a3f5f\",\"arrowhead\":0,\"arrowwidth\":1},\"geo\":{\"bgcolor\":\"white\",\"landcolor\":\"#E5ECF6\",\"subunitcolor\":\"white\",\"showland\":true,\"showlakes\":true,\"lakecolor\":\"white\"},\"title\":{\"x\":0.05},\"mapbox\":{\"style\":\"light\"}}},\"scene\":{\"domain\":{\"x\":[0.0,1.0],\"y\":[0.0,1.0]},\"xaxis\":{\"title\":{\"text\":\"Feature1 \"}},\"yaxis\":{\"title\":{\"text\":\"Feature2 \"}},\"zaxis\":{\"title\":{\"text\":\"Target \"}}},\"legend\":{\"tracegroupgap\":0},\"margin\":{\"t\":60}},                        {\"responsive\": true}                    ).then(function(){\n",
              "                            \n",
              "var gd = document.getElementById('54c80178-d652-466f-93f5-f98b9d957f9a');\n",
              "var x = new MutationObserver(function (mutations, observer) {{\n",
              "        var display = window.getComputedStyle(gd).display;\n",
              "        if (!display || display === 'none') {{\n",
              "            console.log([gd, 'removed!']);\n",
              "            Plotly.purge(gd);\n",
              "            observer.disconnect();\n",
              "        }}\n",
              "}});\n",
              "\n",
              "// Listen for the removal of the full notebook cells\n",
              "var notebookContainer = gd.closest('#notebook-container');\n",
              "if (notebookContainer) {{\n",
              "    x.observe(notebookContainer, {childList: true});\n",
              "}}\n",
              "\n",
              "// Listen for the clearing of the current output cell\n",
              "var outputEl = gd.closest('.output');\n",
              "if (outputEl) {{\n",
              "    x.observe(outputEl, {childList: true});\n",
              "}}\n",
              "\n",
              "                        })                };                            </script>        </div>\n",
              "</body>\n",
              "</html>"
            ]
          },
          "metadata": {}
        }
      ]
    },
    {
      "cell_type": "code",
      "source": [
        "lr.coef_"
      ],
      "metadata": {
        "colab": {
          "base_uri": "https://localhost:8080/"
        },
        "id": "ZdEcKG9-vio3",
        "outputId": "9d36af9e-9cec-41d6-b65b-bf78169f3913"
      },
      "execution_count": 91,
      "outputs": [
        {
          "output_type": "execute_result",
          "data": {
            "text/plain": [
              "array([18.02422415, 42.04105515])"
            ]
          },
          "metadata": {},
          "execution_count": 91
        }
      ]
    },
    {
      "cell_type": "code",
      "source": [
        "lr.intercept_"
      ],
      "metadata": {
        "colab": {
          "base_uri": "https://localhost:8080/"
        },
        "id": "KnM8cKdQwi52",
        "outputId": "d4e23af2-1cfd-4450-ad88-fdc6d6aeaa0a"
      },
      "execution_count": 92,
      "outputs": [
        {
          "output_type": "execute_result",
          "data": {
            "text/plain": [
              "-3.083349578241884"
            ]
          },
          "metadata": {},
          "execution_count": 92
        }
      ]
    },
    {
      "cell_type": "code",
      "source": [],
      "metadata": {
        "id": "7d6Py3rOwmaZ"
      },
      "execution_count": 92,
      "outputs": []
    }
  ]
}
