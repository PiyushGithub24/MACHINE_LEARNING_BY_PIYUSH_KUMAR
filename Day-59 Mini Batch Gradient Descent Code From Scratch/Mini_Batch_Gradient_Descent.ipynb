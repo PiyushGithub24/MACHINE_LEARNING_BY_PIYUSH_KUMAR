{
  "nbformat": 4,
  "nbformat_minor": 0,
  "metadata": {
    "colab": {
      "provenance": [],
      "authorship_tag": "ABX9TyPKorMRo+ZPIHWhmBTBPRP+",
      "include_colab_link": true
    },
    "kernelspec": {
      "name": "python3",
      "display_name": "Python 3"
    },
    "language_info": {
      "name": "python"
    }
  },
  "cells": [
    {
      "cell_type": "markdown",
      "metadata": {
        "id": "view-in-github",
        "colab_type": "text"
      },
      "source": [
        "<a href=\"https://colab.research.google.com/github/PiyushGithub24/MACHINE_LEARNING_BY_PIYUSH_KUMAR/blob/main/Mini_Batch_Gradient_Descent.ipynb\" target=\"_parent\"><img src=\"https://colab.research.google.com/assets/colab-badge.svg\" alt=\"Open In Colab\"/></a>"
      ]
    },
    {
      "cell_type": "markdown",
      "source": [
        "#Mini Batch Gradient Desent Code From Scratch :--"
      ],
      "metadata": {
        "id": "RXGJacuSSrMF"
      }
    },
    {
      "cell_type": "code",
      "execution_count": 165,
      "metadata": {
        "id": "VDkRewGsSf71"
      },
      "outputs": [],
      "source": [
        "import time\n",
        "import numpy as np\n",
        "from sklearn.datasets import load_diabetes\n",
        "from sklearn.linear_model import LinearRegression\n",
        "from sklearn.metrics import r2_score\n",
        "from sklearn.model_selection import train_test_split"
      ]
    },
    {
      "cell_type": "code",
      "source": [
        "X,y=load_diabetes(return_X_y=True)"
      ],
      "metadata": {
        "id": "0GSNdEVJS04g"
      },
      "execution_count": 166,
      "outputs": []
    },
    {
      "cell_type": "code",
      "source": [
        "X.shape ,y.shape"
      ],
      "metadata": {
        "colab": {
          "base_uri": "https://localhost:8080/"
        },
        "id": "GIiNGSHMS2lx",
        "outputId": "abf4b4b3-f791-4378-86bf-064fa6c4ae40"
      },
      "execution_count": 167,
      "outputs": [
        {
          "output_type": "execute_result",
          "data": {
            "text/plain": [
              "((442, 10), (442,))"
            ]
          },
          "metadata": {},
          "execution_count": 167
        }
      ]
    },
    {
      "cell_type": "code",
      "source": [
        "X_train,X_test,y_train,y_test=train_test_split(X,y,test_size=0.2,random_state=2)"
      ],
      "metadata": {
        "id": "R9UfUVTkS35v"
      },
      "execution_count": 168,
      "outputs": []
    },
    {
      "cell_type": "code",
      "source": [
        "lr=LinearRegression()\n",
        "lr.fit(X_train,y_train)"
      ],
      "metadata": {
        "colab": {
          "base_uri": "https://localhost:8080/",
          "height": 74
        },
        "id": "knInkQOPS9jY",
        "outputId": "e6227c6b-907b-49b2-fdc6-7bf57506808c"
      },
      "execution_count": 169,
      "outputs": [
        {
          "output_type": "execute_result",
          "data": {
            "text/plain": [
              "LinearRegression()"
            ],
            "text/html": [
              "<style>#sk-container-id-5 {color: black;}#sk-container-id-5 pre{padding: 0;}#sk-container-id-5 div.sk-toggleable {background-color: white;}#sk-container-id-5 label.sk-toggleable__label {cursor: pointer;display: block;width: 100%;margin-bottom: 0;padding: 0.3em;box-sizing: border-box;text-align: center;}#sk-container-id-5 label.sk-toggleable__label-arrow:before {content: \"▸\";float: left;margin-right: 0.25em;color: #696969;}#sk-container-id-5 label.sk-toggleable__label-arrow:hover:before {color: black;}#sk-container-id-5 div.sk-estimator:hover label.sk-toggleable__label-arrow:before {color: black;}#sk-container-id-5 div.sk-toggleable__content {max-height: 0;max-width: 0;overflow: hidden;text-align: left;background-color: #f0f8ff;}#sk-container-id-5 div.sk-toggleable__content pre {margin: 0.2em;color: black;border-radius: 0.25em;background-color: #f0f8ff;}#sk-container-id-5 input.sk-toggleable__control:checked~div.sk-toggleable__content {max-height: 200px;max-width: 100%;overflow: auto;}#sk-container-id-5 input.sk-toggleable__control:checked~label.sk-toggleable__label-arrow:before {content: \"▾\";}#sk-container-id-5 div.sk-estimator input.sk-toggleable__control:checked~label.sk-toggleable__label {background-color: #d4ebff;}#sk-container-id-5 div.sk-label input.sk-toggleable__control:checked~label.sk-toggleable__label {background-color: #d4ebff;}#sk-container-id-5 input.sk-hidden--visually {border: 0;clip: rect(1px 1px 1px 1px);clip: rect(1px, 1px, 1px, 1px);height: 1px;margin: -1px;overflow: hidden;padding: 0;position: absolute;width: 1px;}#sk-container-id-5 div.sk-estimator {font-family: monospace;background-color: #f0f8ff;border: 1px dotted black;border-radius: 0.25em;box-sizing: border-box;margin-bottom: 0.5em;}#sk-container-id-5 div.sk-estimator:hover {background-color: #d4ebff;}#sk-container-id-5 div.sk-parallel-item::after {content: \"\";width: 100%;border-bottom: 1px solid gray;flex-grow: 1;}#sk-container-id-5 div.sk-label:hover label.sk-toggleable__label {background-color: #d4ebff;}#sk-container-id-5 div.sk-serial::before {content: \"\";position: absolute;border-left: 1px solid gray;box-sizing: border-box;top: 0;bottom: 0;left: 50%;z-index: 0;}#sk-container-id-5 div.sk-serial {display: flex;flex-direction: column;align-items: center;background-color: white;padding-right: 0.2em;padding-left: 0.2em;position: relative;}#sk-container-id-5 div.sk-item {position: relative;z-index: 1;}#sk-container-id-5 div.sk-parallel {display: flex;align-items: stretch;justify-content: center;background-color: white;position: relative;}#sk-container-id-5 div.sk-item::before, #sk-container-id-5 div.sk-parallel-item::before {content: \"\";position: absolute;border-left: 1px solid gray;box-sizing: border-box;top: 0;bottom: 0;left: 50%;z-index: -1;}#sk-container-id-5 div.sk-parallel-item {display: flex;flex-direction: column;z-index: 1;position: relative;background-color: white;}#sk-container-id-5 div.sk-parallel-item:first-child::after {align-self: flex-end;width: 50%;}#sk-container-id-5 div.sk-parallel-item:last-child::after {align-self: flex-start;width: 50%;}#sk-container-id-5 div.sk-parallel-item:only-child::after {width: 0;}#sk-container-id-5 div.sk-dashed-wrapped {border: 1px dashed gray;margin: 0 0.4em 0.5em 0.4em;box-sizing: border-box;padding-bottom: 0.4em;background-color: white;}#sk-container-id-5 div.sk-label label {font-family: monospace;font-weight: bold;display: inline-block;line-height: 1.2em;}#sk-container-id-5 div.sk-label-container {text-align: center;}#sk-container-id-5 div.sk-container {/* jupyter's `normalize.less` sets `[hidden] { display: none; }` but bootstrap.min.css set `[hidden] { display: none !important; }` so we also need the `!important` here to be able to override the default hidden behavior on the sphinx rendered scikit-learn.org. See: https://github.com/scikit-learn/scikit-learn/issues/21755 */display: inline-block !important;position: relative;}#sk-container-id-5 div.sk-text-repr-fallback {display: none;}</style><div id=\"sk-container-id-5\" class=\"sk-top-container\"><div class=\"sk-text-repr-fallback\"><pre>LinearRegression()</pre><b>In a Jupyter environment, please rerun this cell to show the HTML representation or trust the notebook. <br />On GitHub, the HTML representation is unable to render, please try loading this page with nbviewer.org.</b></div><div class=\"sk-container\" hidden><div class=\"sk-item\"><div class=\"sk-estimator sk-toggleable\"><input class=\"sk-toggleable__control sk-hidden--visually\" id=\"sk-estimator-id-5\" type=\"checkbox\" checked><label for=\"sk-estimator-id-5\" class=\"sk-toggleable__label sk-toggleable__label-arrow\">LinearRegression</label><div class=\"sk-toggleable__content\"><pre>LinearRegression()</pre></div></div></div></div></div>"
            ]
          },
          "metadata": {},
          "execution_count": 169
        }
      ]
    },
    {
      "cell_type": "code",
      "source": [
        "lr.coef_"
      ],
      "metadata": {
        "colab": {
          "base_uri": "https://localhost:8080/"
        },
        "id": "2xXAUaG2S_um",
        "outputId": "5fc8289a-6d13-4fec-fcc9-22df529261a8"
      },
      "execution_count": 170,
      "outputs": [
        {
          "output_type": "execute_result",
          "data": {
            "text/plain": [
              "array([  -9.15865318, -205.45432163,  516.69374454,  340.61999905,\n",
              "       -895.5520019 ,  561.22067904,  153.89310954,  126.73139688,\n",
              "        861.12700152,   52.42112238])"
            ]
          },
          "metadata": {},
          "execution_count": 170
        }
      ]
    },
    {
      "cell_type": "code",
      "source": [
        "lr.intercept_"
      ],
      "metadata": {
        "colab": {
          "base_uri": "https://localhost:8080/"
        },
        "id": "tw9XomYqTDZC",
        "outputId": "bb2ee505-2b01-4f92-f5ba-8588694b7e53"
      },
      "execution_count": 171,
      "outputs": [
        {
          "output_type": "execute_result",
          "data": {
            "text/plain": [
              "151.88331005254167"
            ]
          },
          "metadata": {},
          "execution_count": 171
        }
      ]
    },
    {
      "cell_type": "code",
      "source": [
        "y_pred=lr.predict(X_test)\n",
        "r2_score(y_test,y_pred)"
      ],
      "metadata": {
        "colab": {
          "base_uri": "https://localhost:8080/"
        },
        "id": "-8-xWDSzTFC_",
        "outputId": "66a2372a-6e90-4ab1-edd8-140b5a54cdc9"
      },
      "execution_count": 172,
      "outputs": [
        {
          "output_type": "execute_result",
          "data": {
            "text/plain": [
              "0.4399338661568968"
            ]
          },
          "metadata": {},
          "execution_count": 172
        }
      ]
    },
    {
      "cell_type": "markdown",
      "source": [
        "#Lets create a class for Mini Batch Gradien Descent :--"
      ],
      "metadata": {
        "id": "3NflLShITNO_"
      }
    },
    {
      "cell_type": "code",
      "source": [
        "import random\n",
        "ran_idx=random.sample(range(X_train.shape[0]),10)\n",
        "ran_idx"
      ],
      "metadata": {
        "colab": {
          "base_uri": "https://localhost:8080/"
        },
        "id": "aKeeXZ5vVhus",
        "outputId": "b55a67e2-ff50-40f5-9b6b-8dcbaf00dccc"
      },
      "execution_count": 173,
      "outputs": [
        {
          "output_type": "execute_result",
          "data": {
            "text/plain": [
              "[107, 80, 346, 231, 224, 287, 105, 12, 330, 56]"
            ]
          },
          "metadata": {},
          "execution_count": 173
        }
      ]
    },
    {
      "cell_type": "code",
      "source": [
        "X_train[ran_idx]"
      ],
      "metadata": {
        "colab": {
          "base_uri": "https://localhost:8080/"
        },
        "id": "3y4GWyv4Vruh",
        "outputId": "85d02b65-9c78-4d4d-f825-8bbd982a805e"
      },
      "execution_count": 174,
      "outputs": [
        {
          "output_type": "execute_result",
          "data": {
            "text/plain": [
              "array([[ 0.01628068, -0.04464164,  0.00133873,  0.00810098,  0.0053108 ,\n",
              "         0.01089891,  0.03023191, -0.03949338, -0.04542404,  0.03205916],\n",
              "       [-0.05637009, -0.04464164,  0.09295276, -0.01944183,  0.01494247,\n",
              "         0.02342485, -0.02867429,  0.02545259,  0.02606052,  0.04034337],\n",
              "       [ 0.01628068, -0.04464164,  0.02073935,  0.02187239, -0.01395254,\n",
              "        -0.01321352, -0.00658447, -0.00259226,  0.01331691,  0.04034337],\n",
              "       [ 0.05260606, -0.04464164, -0.00405033, -0.03090652, -0.0469754 ,\n",
              "        -0.0583069 , -0.01394774, -0.02583997,  0.03606033,  0.02377494],\n",
              "       [-0.07816532, -0.04464164, -0.04069594, -0.08141314, -0.10063757,\n",
              "        -0.11279473,  0.02286863, -0.0763945 , -0.02029232, -0.05078298],\n",
              "       [ 0.07076875,  0.05068012, -0.01698407,  0.02187239,  0.04383748,\n",
              "         0.05630544,  0.03759519, -0.00259226, -0.07020936, -0.01764613],\n",
              "       [-0.06363517,  0.05068012,  0.09618619,  0.10450081, -0.00294491,\n",
              "        -0.00475851, -0.00658447, -0.00259226,  0.02268774,  0.07348023],\n",
              "       [ 0.0090156 ,  0.05068012, -0.00512814, -0.06419889,  0.06998059,\n",
              "         0.0838625 , -0.03971921,  0.07120998,  0.03954249,  0.01963284],\n",
              "       [-0.09269548, -0.04464164,  0.02828403, -0.01599898,  0.03695772,\n",
              "         0.02499059,  0.05600338, -0.03949338, -0.00514219, -0.0010777 ],\n",
              "       [ 0.03444337,  0.05068012,  0.02828403, -0.03321323, -0.04559945,\n",
              "        -0.00976889, -0.05076412, -0.00259226, -0.05947118, -0.02178823]])"
            ]
          },
          "metadata": {},
          "execution_count": 174
        }
      ]
    },
    {
      "cell_type": "code",
      "source": [
        "class MBGDRegressor:\n",
        "  def __init__(self,batch_size,Learning_rate=0.03,epochs=100):\n",
        "    self.coef_=None\n",
        "    self.intercept_=None\n",
        "    self.batch_size=batch_size\n",
        "    self.lr=Learning_rate\n",
        "    self.epochs=epochs\n",
        "\n",
        "  def fit(self,X_train,y_train):\n",
        "    #lets initialize the coefficients\n",
        "    self.intercept_=0\n",
        "    self.coef_=np.ones(X_train.shape[1])\n",
        "\n",
        "    # print(self.intercept_ ,self.coef_)\n",
        "    for i in range(self.epochs):\n",
        "      for j in range(int(X_train.shape[0]/self.batch_size)):\n",
        "        idx=random.sample(range(X_train.shape[0]),self.batch_size)\n",
        "        X_batch=X_train[idx]\n",
        "        y_batch=y_train[idx]\n",
        "        y_hat=np.dot(X_batch ,self.coef_) + self.intercept_\n",
        "\n",
        "        intercept_der=-2 *np.mean(y_batch - y_hat)\n",
        "        self.intercept_=self.intercept_  - (self.lr * intercept_der)\n",
        "\n",
        "        coef_der=(-2)*np.dot((y_batch-y_hat),X_batch)/X_batch.shape[0]\n",
        "        self.coef_=self.coef_-(self.lr*coef_der)\n",
        "    print(self.intercept_ ,'\\n',self.coef_)\n",
        "\n",
        "  def predict(self,X_test):\n",
        "    return np.dot(X_test,self.coef_) + self.intercept_\n"
      ],
      "metadata": {
        "id": "5hGQRCu7THh5"
      },
      "execution_count": 175,
      "outputs": []
    },
    {
      "cell_type": "code",
      "source": [
        "mbgd=MBGDRegressor(batch_size=20,Learning_rate=0.25,epochs=60)"
      ],
      "metadata": {
        "id": "TnjjsEfdYXJG"
      },
      "execution_count": 176,
      "outputs": []
    },
    {
      "cell_type": "code",
      "source": [
        "mbgd.fit(X_train,y_train)"
      ],
      "metadata": {
        "colab": {
          "base_uri": "https://localhost:8080/"
        },
        "id": "ld0W3autYoja",
        "outputId": "04e3f634-c6a3-4c64-ee47-6836f0cc51c1"
      },
      "execution_count": 177,
      "outputs": [
        {
          "output_type": "stream",
          "name": "stdout",
          "text": [
            "148.3867110983091 \n",
            " [  43.86432451  -98.75853757  415.88142566  282.86976506   -3.89775594\n",
            "  -56.7048984  -190.70823322  122.92534571  368.56077891  122.03789402]\n"
          ]
        }
      ]
    },
    {
      "cell_type": "code",
      "source": [
        "y_pred=mbgd.predict(X_test)\n",
        "r2_score(y_test,y_pred)"
      ],
      "metadata": {
        "colab": {
          "base_uri": "https://localhost:8080/"
        },
        "id": "1rDRhdJQYrp8",
        "outputId": "23405aa8-3cc4-4067-a15a-58b71a2986ad"
      },
      "execution_count": 178,
      "outputs": [
        {
          "output_type": "execute_result",
          "data": {
            "text/plain": [
              "0.44416841237492843"
            ]
          },
          "metadata": {},
          "execution_count": 178
        }
      ]
    },
    {
      "cell_type": "markdown",
      "source": [
        "#Implementing Min Batch Gradient Descent using sklearn:-\n",
        "- since for this we have to use SGDRegressor but we can not directly use SGDRegressor instead we use it by using partial_fit method:-"
      ],
      "metadata": {
        "id": "1-xGPaln_7yY"
      }
    },
    {
      "cell_type": "code",
      "source": [
        "from sklearn.linear_model import SGDRegressor"
      ],
      "metadata": {
        "id": "4JLswItsBFJD"
      },
      "execution_count": 179,
      "outputs": []
    },
    {
      "cell_type": "code",
      "source": [
        "reg=SGDRegressor(learning_rate='constant',eta0=0.25)"
      ],
      "metadata": {
        "id": "U7_YYCG8BFg7"
      },
      "execution_count": 180,
      "outputs": []
    },
    {
      "cell_type": "code",
      "source": [
        "batch_size=35\n",
        "for i in range(100):\n",
        "  idx=random.sample(range(X_train.shape[0]),batch_size)\n",
        "  X_batch=X_train[idx]\n",
        "  y_batch=y_train[idx]\n",
        "  reg.partial_fit(X_batch,y_batch)"
      ],
      "metadata": {
        "id": "4sKDetQyBPku"
      },
      "execution_count": 181,
      "outputs": []
    },
    {
      "cell_type": "code",
      "source": [
        "reg.coef_"
      ],
      "metadata": {
        "colab": {
          "base_uri": "https://localhost:8080/"
        },
        "id": "78aDWnSkB61L",
        "outputId": "eced5bdb-31e9-4037-fb5f-4a623e974a14"
      },
      "execution_count": 182,
      "outputs": [
        {
          "output_type": "execute_result",
          "data": {
            "text/plain": [
              "array([  -8.45370314, -131.52949825,  482.92121187,  301.19512058,\n",
              "        -47.43742825, -130.85332907, -195.09640162,   98.29673612,\n",
              "        443.98870182,   96.07702407])"
            ]
          },
          "metadata": {},
          "execution_count": 182
        }
      ]
    },
    {
      "cell_type": "code",
      "source": [
        "reg.intercept_"
      ],
      "metadata": {
        "colab": {
          "base_uri": "https://localhost:8080/"
        },
        "id": "QQn7fYSjB-wV",
        "outputId": "68cc4f30-5f6a-4817-e8b5-33336edab0f7"
      },
      "execution_count": 183,
      "outputs": [
        {
          "output_type": "execute_result",
          "data": {
            "text/plain": [
              "array([151.72776461])"
            ]
          },
          "metadata": {},
          "execution_count": 183
        }
      ]
    },
    {
      "cell_type": "code",
      "source": [
        "y_pred1=reg.predict(X_test)\n",
        "r2_score(y_test,y_pred1)"
      ],
      "metadata": {
        "colab": {
          "base_uri": "https://localhost:8080/"
        },
        "id": "bw-D22J-CBLc",
        "outputId": "4bb9146f-466b-4e1e-9cf1-43e19c9e56be"
      },
      "execution_count": 184,
      "outputs": [
        {
          "output_type": "execute_result",
          "data": {
            "text/plain": [
              "0.4518827764191582"
            ]
          },
          "metadata": {},
          "execution_count": 184
        }
      ]
    },
    {
      "cell_type": "code",
      "source": [],
      "metadata": {
        "id": "Ytrv2o0-CHML"
      },
      "execution_count": 184,
      "outputs": []
    }
  ]
}
